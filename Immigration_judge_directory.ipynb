{
 "metadata": {
  "language_info": {
   "codemirror_mode": {
    "name": "ipython",
    "version": 3
   },
   "file_extension": ".py",
   "mimetype": "text/x-python",
   "name": "python",
   "nbconvert_exporter": "python",
   "pygments_lexer": "ipython3",
   "version": "3.6.13"
  },
  "orig_nbformat": 4,
  "kernelspec": {
   "name": "python3",
   "display_name": "Python 3.6.13 64-bit ('geopandas_env': conda)"
  },
  "interpreter": {
   "hash": "e3d531657866f8d065b0b35d4ac73a3d9deb0042e7261132dadd2a3dbb70da95"
  }
 },
 "nbformat": 4,
 "nbformat_minor": 2,
 "cells": [
  {
   "cell_type": "code",
   "execution_count": 86,
   "source": [
    "import csv\n",
    "import pandas as pd\n",
    "import googlemaps\n",
    "import requests\n",
    "import urllib.request\n",
    "import time\n",
    "from bs4 import BeautifulSoup\n"
   ],
   "outputs": [],
   "metadata": {}
  },
  {
   "cell_type": "code",
   "execution_count": 87,
   "source": [
    "url = 'http://www.justice.gov/eoir/eoir-immigration-court-listing'\n",
    "response = requests.get(url)\n",
    "response"
   ],
   "outputs": [
    {
     "output_type": "execute_result",
     "data": {
      "text/plain": [
       "<Response [200]>"
      ]
     },
     "metadata": {},
     "execution_count": 87
    }
   ],
   "metadata": {}
  },
  {
   "cell_type": "code",
   "execution_count": 88,
   "source": [
    "# once we have a list of judges we can look them up on rate my judge \n",
    "# https://www.ratemyimmigrationjudge.com/listing/hon-john-w-cortes-immigration-judge-new-york-varick-immigration-court/"
   ],
   "outputs": [],
   "metadata": {}
  },
  {
   "cell_type": "code",
   "execution_count": 89,
   "source": [
    "soup = BeautifulSoup(response.text,'html.parser')"
   ],
   "outputs": [],
   "metadata": {}
  },
  {
   "cell_type": "code",
   "execution_count": 90,
   "source": [
    "CIJ = soup.findAll('a')[53:93]\n",
    "for judge in CIJ:\n",
    "    print(judge.text)"
   ],
   "outputs": [
    {
     "output_type": "stream",
     "name": "stdout",
     "text": [
      "Tracy Short\n",
      "Daniel H. Weiss \n",
      "Mary Cheng\n",
      "Daniel J. Daugherty\n",
      "Sheila McNulty\n",
      "E. Mark Barcus\n",
      "Jefferson B. Brown\n",
      "David Cheng\n",
      "Grady A. Crooks\n",
      "Eric L. Dillow\n",
      "John R. Doolittle II\n",
      "Irene C. Feldman\n",
      "Melissa Joy Garcia\n",
      "Colleen M. Glaser-Allen\n",
      "Renae M. Hansell\n",
      "Megan B. Herndon\n",
      "Jonathan W. Hitesman\n",
      "Theresa Holmes-Simmons \n",
      "Amy C. Hoogasian\n",
      "Megan R. Jackler\n",
      "Matthew W. Kaufman\n",
      "Daniel P. Kinnicutt\n",
      "Charles P. Koutras\n",
      "Joy Lampley-Fortson\n",
      "Scott D. Laurent\n",
      "Anna C. Little\n",
      "Lisa Luis\n",
      "Daren K. Margolin\n",
      "H. Kevin Mart \n",
      "James F. McCarthy III\n",
      "Jeffrey S. Miller \n",
      "Tara Naselow-Nahas\n",
      "Alfredia Owens \n",
      "Anne Kristina Perry \n",
      "Rodin Rooyani\n",
      "Theresa M. Scala \n",
      "Vance H. Spath\n",
      "Elisa M. Sukkar \n",
      "Khalilah M. Taylor \n",
      "Ubaid ul-Haq\n"
     ]
    }
   ],
   "metadata": {}
  },
  {
   "cell_type": "code",
   "execution_count": 91,
   "source": [
    "# soup.findAll('a')[128:193]"
   ],
   "outputs": [],
   "metadata": {}
  },
  {
   "cell_type": "code",
   "execution_count": 92,
   "source": [
    "ct_info = [addy.text.strip() for addy in soup.findAll('td')[1:415]]"
   ],
   "outputs": [],
   "metadata": {
    "tags": []
   }
  },
  {
   "cell_type": "code",
   "execution_count": 93,
   "source": [
    "import pandas as pd\n",
    "import numpy as np\n",
    "names = ['Court','Address','Judges','Immigration Judges', 'Court Administrator']\n",
    "columns = ['Court','Address','Judges','Ct Admin']\n",
    "result = list(filter(lambda x: x not in names,ct_info))\n",
    "del result[268]\n",
    "# print(result[268:269])\n",
    "\n",
    "print(result[268:272])\n",
    "print(result[272:276])\n",
    "\n"
   ],
   "outputs": [
    {
     "output_type": "stream",
     "name": "stdout",
     "text": [
      "['Richmond IAC', '10 S. 6th Street\\n\\t\\t\\tRichmond, VA 23219\\n\\t\\t\\t804-343-2900', 'Kaplan, Elliot M.\\n\\t\\t\\tNapier, Wade T.\\n\\t\\t\\tPalmer, Brian T.\\n\\t\\t\\tRivera, Tamaira\\n\\t\\t\\tRobertson, David H.\\n\\t\\t\\tTerrien, Jeb T.', 'English-Figueroa, Yolanda']\n",
      "['Seattle', '915 2nd Ave., Suite 613\\n\\t\\t\\tSeattle, WA 98174\\n\\t\\t\\t206-342-7200', 'Evans, David W.\\n\\t\\t\\tJohnson, Shane E.\\n\\t\\t\\tMcSeveney, Robert B.C.\\n\\t\\t\\tParchert, Brett M.\\n\\t\\t\\tSogabe, Kenneth S.\\n\\t\\t\\tWindrow, Hayden', 'Neifert, Joseph (Acting)']\n"
     ]
    }
   ],
   "metadata": {}
  },
  {
   "cell_type": "code",
   "execution_count": null,
   "source": [],
   "outputs": [],
   "metadata": {}
  },
  {
   "cell_type": "code",
   "execution_count": 94,
   "source": [
    "print(len(result))\n",
    "num_courts = len(result)//4\n",
    "add_list=[]\n",
    "for i in range(num_courts):\n",
    "    to_add = np.array([result[i*4],result[i*4+1],result[i*4+2],result[i*4+3]])\n",
    "    add_list.append(to_add)\n",
    "   "
   ],
   "outputs": [
    {
     "output_type": "stream",
     "name": "stdout",
     "text": [
      "280\n"
     ]
    }
   ],
   "metadata": {}
  },
  {
   "cell_type": "code",
   "execution_count": 95,
   "source": [
    "df2 = pd.DataFrame(np.array(add_list),columns=columns)\n",
    "df2.tail()"
   ],
   "outputs": [
    {
     "output_type": "execute_result",
     "data": {
      "text/html": [
       "<div>\n",
       "<style scoped>\n",
       "    .dataframe tbody tr th:only-of-type {\n",
       "        vertical-align: middle;\n",
       "    }\n",
       "\n",
       "    .dataframe tbody tr th {\n",
       "        vertical-align: top;\n",
       "    }\n",
       "\n",
       "    .dataframe thead th {\n",
       "        text-align: right;\n",
       "    }\n",
       "</style>\n",
       "<table border=\"1\" class=\"dataframe\">\n",
       "  <thead>\n",
       "    <tr style=\"text-align: right;\">\n",
       "      <th></th>\n",
       "      <th>Court</th>\n",
       "      <th>Address</th>\n",
       "      <th>Judges</th>\n",
       "      <th>Ct Admin</th>\n",
       "    </tr>\n",
       "  </thead>\n",
       "  <tbody>\n",
       "    <tr>\n",
       "      <th>65</th>\n",
       "      <td>Arlington</td>\n",
       "      <td>1901 South Bell Street, Suite 200\\n\\t\\t\\tArlin...</td>\n",
       "      <td>Barnes, John Cody\\n\\t\\t\\tBryant, John M.\\n\\t\\t...</td>\n",
       "      <td>Cortes, Juan</td>\n",
       "    </tr>\n",
       "    <tr>\n",
       "      <th>66</th>\n",
       "      <td>Falls Church IAC</td>\n",
       "      <td>5107 Leesburg Pike\\n\\t\\t\\tFalls Church, VA 220...</td>\n",
       "      <td>De Cardona, Lisa\\n\\t\\t\\tFarrar-Crockett, Emily...</td>\n",
       "      <td>Meyers, Natalie</td>\n",
       "    </tr>\n",
       "    <tr>\n",
       "      <th>67</th>\n",
       "      <td>Richmond IAC</td>\n",
       "      <td>10 S. 6th Street\\n\\t\\t\\tRichmond, VA 23219\\n\\t...</td>\n",
       "      <td>Kaplan, Elliot M.\\n\\t\\t\\tNapier, Wade T.\\n\\t\\t...</td>\n",
       "      <td>English-Figueroa, Yolanda</td>\n",
       "    </tr>\n",
       "    <tr>\n",
       "      <th>68</th>\n",
       "      <td>Seattle</td>\n",
       "      <td>915 2nd Ave., Suite 613\\n\\t\\t\\tSeattle, WA 981...</td>\n",
       "      <td>Evans, David W.\\n\\t\\t\\tJohnson, Shane E.\\n\\t\\t...</td>\n",
       "      <td>Neifert, Joseph (Acting)</td>\n",
       "    </tr>\n",
       "    <tr>\n",
       "      <th>69</th>\n",
       "      <td>Tacoma</td>\n",
       "      <td>1623 East J Street, Suite 3\\n\\t\\t\\tTacoma, WA ...</td>\n",
       "      <td>Fitting, Tammy\\n\\t\\t\\tFloyd, Charles Neil\\n\\t\\...</td>\n",
       "      <td>Neifert, Joseph</td>\n",
       "    </tr>\n",
       "  </tbody>\n",
       "</table>\n",
       "</div>"
      ],
      "text/plain": [
       "               Court                                            Address  \\\n",
       "65         Arlington  1901 South Bell Street, Suite 200\\n\\t\\t\\tArlin...   \n",
       "66  Falls Church IAC  5107 Leesburg Pike\\n\\t\\t\\tFalls Church, VA 220...   \n",
       "67      Richmond IAC  10 S. 6th Street\\n\\t\\t\\tRichmond, VA 23219\\n\\t...   \n",
       "68           Seattle  915 2nd Ave., Suite 613\\n\\t\\t\\tSeattle, WA 981...   \n",
       "69            Tacoma  1623 East J Street, Suite 3\\n\\t\\t\\tTacoma, WA ...   \n",
       "\n",
       "                                               Judges  \\\n",
       "65  Barnes, John Cody\\n\\t\\t\\tBryant, John M.\\n\\t\\t...   \n",
       "66  De Cardona, Lisa\\n\\t\\t\\tFarrar-Crockett, Emily...   \n",
       "67  Kaplan, Elliot M.\\n\\t\\t\\tNapier, Wade T.\\n\\t\\t...   \n",
       "68  Evans, David W.\\n\\t\\t\\tJohnson, Shane E.\\n\\t\\t...   \n",
       "69  Fitting, Tammy\\n\\t\\t\\tFloyd, Charles Neil\\n\\t\\...   \n",
       "\n",
       "                     Ct Admin  \n",
       "65               Cortes, Juan  \n",
       "66            Meyers, Natalie  \n",
       "67  English-Figueroa, Yolanda  \n",
       "68   Neifert, Joseph (Acting)  \n",
       "69            Neifert, Joseph  "
      ]
     },
     "metadata": {},
     "execution_count": 95
    }
   ],
   "metadata": {}
  },
  {
   "cell_type": "code",
   "execution_count": 96,
   "source": [
    "\n",
    "df2 = df2.replace(r'\\t',' ', regex=True)\n",
    "\n",
    "df2.loc[29]"
   ],
   "outputs": [
    {
     "output_type": "execute_result",
     "data": {
      "text/plain": [
       "Court                                                 Detroit\n",
       "Address     P.V. McNamara Federal Building\\n   477 Michiga...\n",
       "Judges      Gorland, Jennifer M.\\n   Jebson, Mark J.\\n   P...\n",
       "Ct Admin                                     Shelley, Shandra\n",
       "Name: 29, dtype: object"
      ]
     },
     "metadata": {},
     "execution_count": 96
    }
   ],
   "metadata": {}
  },
  {
   "cell_type": "code",
   "execution_count": 97,
   "source": [
    "new = df2['Address'].str.split('\\n', n = 5, expand = True)\n",
    "\n",
    "df2['Street']= new[0]\n",
    "df2['CityZip']= new[1]\n",
    "df2['Phone']= new[2]\n",
    "    "
   ],
   "outputs": [],
   "metadata": {}
  },
  {
   "cell_type": "code",
   "execution_count": 98,
   "source": [
    "new[25:30]"
   ],
   "outputs": [
    {
     "output_type": "execute_result",
     "data": {
      "text/html": [
       "<div>\n",
       "<style scoped>\n",
       "    .dataframe tbody tr th:only-of-type {\n",
       "        vertical-align: middle;\n",
       "    }\n",
       "\n",
       "    .dataframe tbody tr th {\n",
       "        vertical-align: top;\n",
       "    }\n",
       "\n",
       "    .dataframe thead th {\n",
       "        text-align: right;\n",
       "    }\n",
       "</style>\n",
       "<table border=\"1\" class=\"dataframe\">\n",
       "  <thead>\n",
       "    <tr style=\"text-align: right;\">\n",
       "      <th></th>\n",
       "      <th>0</th>\n",
       "      <th>1</th>\n",
       "      <th>2</th>\n",
       "      <th>3</th>\n",
       "      <th>4</th>\n",
       "      <th>5</th>\n",
       "    </tr>\n",
       "  </thead>\n",
       "  <tbody>\n",
       "    <tr>\n",
       "      <th>25</th>\n",
       "      <td>One Canal Place</td>\n",
       "      <td>365 Canal Street, Suite 500</td>\n",
       "      <td>New Orleans, LA 70130</td>\n",
       "      <td>504-589-3992</td>\n",
       "      <td>None</td>\n",
       "      <td>None</td>\n",
       "    </tr>\n",
       "    <tr>\n",
       "      <th>26</th>\n",
       "      <td>1900 E. Whatley Road</td>\n",
       "      <td>Oakdale, LA 71463</td>\n",
       "      <td>318-335-0365</td>\n",
       "      <td>None</td>\n",
       "      <td>None</td>\n",
       "      <td>None</td>\n",
       "    </tr>\n",
       "    <tr>\n",
       "      <th>27</th>\n",
       "      <td>George Fallon Federal Building</td>\n",
       "      <td>31 Hopkins Plaza, Rm. 440</td>\n",
       "      <td>Baltimore, MD 21201</td>\n",
       "      <td>410-962-3092</td>\n",
       "      <td>None</td>\n",
       "      <td>None</td>\n",
       "    </tr>\n",
       "    <tr>\n",
       "      <th>28</th>\n",
       "      <td>JFK Federal Building</td>\n",
       "      <td>15 New Sudbury Street</td>\n",
       "      <td>Room 320</td>\n",
       "      <td>Boston, MA 02203</td>\n",
       "      <td>617-565-3080</td>\n",
       "      <td>None</td>\n",
       "    </tr>\n",
       "    <tr>\n",
       "      <th>29</th>\n",
       "      <td>P.V. McNamara Federal Building</td>\n",
       "      <td>477 Michigan Avenue, Suite 440</td>\n",
       "      <td>Detroit, MI 48226</td>\n",
       "      <td>313-226-2603</td>\n",
       "      <td>None</td>\n",
       "      <td>None</td>\n",
       "    </tr>\n",
       "  </tbody>\n",
       "</table>\n",
       "</div>"
      ],
      "text/plain": [
       "                                 0                                  1  \\\n",
       "25                 One Canal Place        365 Canal Street, Suite 500   \n",
       "26            1900 E. Whatley Road                  Oakdale, LA 71463   \n",
       "27  George Fallon Federal Building          31 Hopkins Plaza, Rm. 440   \n",
       "28            JFK Federal Building              15 New Sudbury Street   \n",
       "29  P.V. McNamara Federal Building     477 Michigan Avenue, Suite 440   \n",
       "\n",
       "                           2                    3                4     5  \n",
       "25     New Orleans, LA 70130         504-589-3992             None  None  \n",
       "26              318-335-0365                 None             None  None  \n",
       "27       Baltimore, MD 21201         410-962-3092             None  None  \n",
       "28                  Room 320     Boston, MA 02203     617-565-3080  None  \n",
       "29         Detroit, MI 48226         313-226-2603             None  None  "
      ]
     },
     "metadata": {},
     "execution_count": 98
    }
   ],
   "metadata": {}
  },
  {
   "cell_type": "code",
   "execution_count": 99,
   "source": [
    "df2 = df2.apply(lambda x: x.str.strip() if x.dtype == \"object\" else x)"
   ],
   "outputs": [],
   "metadata": {}
  },
  {
   "cell_type": "code",
   "execution_count": 100,
   "source": [
    "for i in range(len(df2['Street'])):\n",
    "    try:\n",
    "        int(df2['Street'][i][0])\n",
    "    except:\n",
    "        df2['Street'][i] = new[1][i]\n",
    "        df2['CityZip'][i]= new[2][i]\n",
    "        df2['Phone'][i]= new[3][i]\n",
    "\n",
    "    try:\n",
    "        int(df2['CityZip'][i][-6:])\n",
    "    except:\n",
    "        df2['CityZip'][i]= new[2][i]\n",
    "        df2['Phone'][i]= new[3][i]\n"
   ],
   "outputs": [],
   "metadata": {}
  },
  {
   "cell_type": "code",
   "execution_count": 101,
   "source": [
    "df2.loc[25:30]"
   ],
   "outputs": [
    {
     "output_type": "execute_result",
     "data": {
      "text/html": [
       "<div>\n",
       "<style scoped>\n",
       "    .dataframe tbody tr th:only-of-type {\n",
       "        vertical-align: middle;\n",
       "    }\n",
       "\n",
       "    .dataframe tbody tr th {\n",
       "        vertical-align: top;\n",
       "    }\n",
       "\n",
       "    .dataframe thead th {\n",
       "        text-align: right;\n",
       "    }\n",
       "</style>\n",
       "<table border=\"1\" class=\"dataframe\">\n",
       "  <thead>\n",
       "    <tr style=\"text-align: right;\">\n",
       "      <th></th>\n",
       "      <th>Court</th>\n",
       "      <th>Address</th>\n",
       "      <th>Judges</th>\n",
       "      <th>Ct Admin</th>\n",
       "      <th>Street</th>\n",
       "      <th>CityZip</th>\n",
       "      <th>Phone</th>\n",
       "    </tr>\n",
       "  </thead>\n",
       "  <tbody>\n",
       "    <tr>\n",
       "      <th>25</th>\n",
       "      <td>New Orleans</td>\n",
       "      <td>One Canal Place\\n   365 Canal Street, Suite 50...</td>\n",
       "      <td>La Rocca, Joseph B.\\n   Marquez, Charlotte S.\\...</td>\n",
       "      <td>González, Robert C. (Acting)</td>\n",
       "      <td>365 Canal Street, Suite 500</td>\n",
       "      <td>New Orleans, LA 70130</td>\n",
       "      <td>504-589-3992</td>\n",
       "    </tr>\n",
       "    <tr>\n",
       "      <th>26</th>\n",
       "      <td>Oakdale</td>\n",
       "      <td>1900 E. Whatley Road\\n   Oakdale, LA 71463\\n  ...</td>\n",
       "      <td>Ashworth, Sherron\\n   Duck Jr., John A.\\n   La...</td>\n",
       "      <td>Davis, J. Thomas (Acting)</td>\n",
       "      <td>1900 E. Whatley Road</td>\n",
       "      <td>Oakdale, LA 71463</td>\n",
       "      <td>318-335-0365</td>\n",
       "    </tr>\n",
       "    <tr>\n",
       "      <th>27</th>\n",
       "      <td>Baltimore</td>\n",
       "      <td>George Fallon Federal Building\\n   31 Hopkins ...</td>\n",
       "      <td>Crosland, David W.\\n   Golparvar, Kuyomars Q.\\...</td>\n",
       "      <td>Cook, Brenda</td>\n",
       "      <td>31 Hopkins Plaza, Rm. 440</td>\n",
       "      <td>Baltimore, MD 21201</td>\n",
       "      <td>410-962-3092</td>\n",
       "    </tr>\n",
       "    <tr>\n",
       "      <th>28</th>\n",
       "      <td>Boston</td>\n",
       "      <td>JFK Federal Building\\n   15 New Sudbury Street...</td>\n",
       "      <td>Feder, Robin\\n   Furlong Jr., John M.\\n   Gagn...</td>\n",
       "      <td>Xu, Fang</td>\n",
       "      <td>15 New Sudbury Street</td>\n",
       "      <td>Room 320</td>\n",
       "      <td>Boston, MA 02203</td>\n",
       "    </tr>\n",
       "    <tr>\n",
       "      <th>29</th>\n",
       "      <td>Detroit</td>\n",
       "      <td>P.V. McNamara Federal Building\\n   477 Michiga...</td>\n",
       "      <td>Gorland, Jennifer M.\\n   Jebson, Mark J.\\n   P...</td>\n",
       "      <td>Shelley, Shandra</td>\n",
       "      <td>477 Michigan Avenue, Suite 440</td>\n",
       "      <td>Detroit, MI 48226</td>\n",
       "      <td>313-226-2603</td>\n",
       "    </tr>\n",
       "    <tr>\n",
       "      <th>30</th>\n",
       "      <td>Fort Snelling</td>\n",
       "      <td>Bishop Henry Whipple Federal Bldg.\\n   1 Feder...</td>\n",
       "      <td>Carr, M. Audrey\\n   Dierkes, Joseph\\n   Hansen...</td>\n",
       "      <td>Baldwin, Elizabeth</td>\n",
       "      <td>1 Federal Drive, Suite 1850</td>\n",
       "      <td>Fort Snelling, MN 55111</td>\n",
       "      <td>612-725-3765</td>\n",
       "    </tr>\n",
       "  </tbody>\n",
       "</table>\n",
       "</div>"
      ],
      "text/plain": [
       "            Court                                            Address  \\\n",
       "25    New Orleans  One Canal Place\\n   365 Canal Street, Suite 50...   \n",
       "26        Oakdale  1900 E. Whatley Road\\n   Oakdale, LA 71463\\n  ...   \n",
       "27      Baltimore  George Fallon Federal Building\\n   31 Hopkins ...   \n",
       "28         Boston  JFK Federal Building\\n   15 New Sudbury Street...   \n",
       "29        Detroit  P.V. McNamara Federal Building\\n   477 Michiga...   \n",
       "30  Fort Snelling  Bishop Henry Whipple Federal Bldg.\\n   1 Feder...   \n",
       "\n",
       "                                               Judges  \\\n",
       "25  La Rocca, Joseph B.\\n   Marquez, Charlotte S.\\...   \n",
       "26  Ashworth, Sherron\\n   Duck Jr., John A.\\n   La...   \n",
       "27  Crosland, David W.\\n   Golparvar, Kuyomars Q.\\...   \n",
       "28  Feder, Robin\\n   Furlong Jr., John M.\\n   Gagn...   \n",
       "29  Gorland, Jennifer M.\\n   Jebson, Mark J.\\n   P...   \n",
       "30  Carr, M. Audrey\\n   Dierkes, Joseph\\n   Hansen...   \n",
       "\n",
       "                        Ct Admin                             Street  \\\n",
       "25  González, Robert C. (Acting)        365 Canal Street, Suite 500   \n",
       "26     Davis, J. Thomas (Acting)               1900 E. Whatley Road   \n",
       "27                  Cook, Brenda          31 Hopkins Plaza, Rm. 440   \n",
       "28                      Xu, Fang              15 New Sudbury Street   \n",
       "29              Shelley, Shandra     477 Michigan Avenue, Suite 440   \n",
       "30            Baldwin, Elizabeth        1 Federal Drive, Suite 1850   \n",
       "\n",
       "                       CityZip                Phone  \n",
       "25       New Orleans, LA 70130         504-589-3992  \n",
       "26           Oakdale, LA 71463         318-335-0365  \n",
       "27         Baltimore, MD 21201         410-962-3092  \n",
       "28                    Room 320     Boston, MA 02203  \n",
       "29           Detroit, MI 48226         313-226-2603  \n",
       "30     Fort Snelling, MN 55111         612-725-3765  "
      ]
     },
     "metadata": {},
     "execution_count": 101
    }
   ],
   "metadata": {}
  },
  {
   "cell_type": "code",
   "execution_count": 102,
   "source": [
    "# selecting rows based on condition \n",
    "filtCZ = df2['CityZip'].str.split()\n",
    "# filtCZ[29][0]\n",
    "df2['cz_fix'] = filtCZ\n",
    "df2.loc[25:30]\n"
   ],
   "outputs": [
    {
     "output_type": "execute_result",
     "data": {
      "text/html": [
       "<div>\n",
       "<style scoped>\n",
       "    .dataframe tbody tr th:only-of-type {\n",
       "        vertical-align: middle;\n",
       "    }\n",
       "\n",
       "    .dataframe tbody tr th {\n",
       "        vertical-align: top;\n",
       "    }\n",
       "\n",
       "    .dataframe thead th {\n",
       "        text-align: right;\n",
       "    }\n",
       "</style>\n",
       "<table border=\"1\" class=\"dataframe\">\n",
       "  <thead>\n",
       "    <tr style=\"text-align: right;\">\n",
       "      <th></th>\n",
       "      <th>Court</th>\n",
       "      <th>Address</th>\n",
       "      <th>Judges</th>\n",
       "      <th>Ct Admin</th>\n",
       "      <th>Street</th>\n",
       "      <th>CityZip</th>\n",
       "      <th>Phone</th>\n",
       "      <th>cz_fix</th>\n",
       "    </tr>\n",
       "  </thead>\n",
       "  <tbody>\n",
       "    <tr>\n",
       "      <th>25</th>\n",
       "      <td>New Orleans</td>\n",
       "      <td>One Canal Place\\n   365 Canal Street, Suite 50...</td>\n",
       "      <td>La Rocca, Joseph B.\\n   Marquez, Charlotte S.\\...</td>\n",
       "      <td>González, Robert C. (Acting)</td>\n",
       "      <td>365 Canal Street, Suite 500</td>\n",
       "      <td>New Orleans, LA 70130</td>\n",
       "      <td>504-589-3992</td>\n",
       "      <td>[New, Orleans,, LA, 70130]</td>\n",
       "    </tr>\n",
       "    <tr>\n",
       "      <th>26</th>\n",
       "      <td>Oakdale</td>\n",
       "      <td>1900 E. Whatley Road\\n   Oakdale, LA 71463\\n  ...</td>\n",
       "      <td>Ashworth, Sherron\\n   Duck Jr., John A.\\n   La...</td>\n",
       "      <td>Davis, J. Thomas (Acting)</td>\n",
       "      <td>1900 E. Whatley Road</td>\n",
       "      <td>Oakdale, LA 71463</td>\n",
       "      <td>318-335-0365</td>\n",
       "      <td>[Oakdale,, LA, 71463]</td>\n",
       "    </tr>\n",
       "    <tr>\n",
       "      <th>27</th>\n",
       "      <td>Baltimore</td>\n",
       "      <td>George Fallon Federal Building\\n   31 Hopkins ...</td>\n",
       "      <td>Crosland, David W.\\n   Golparvar, Kuyomars Q.\\...</td>\n",
       "      <td>Cook, Brenda</td>\n",
       "      <td>31 Hopkins Plaza, Rm. 440</td>\n",
       "      <td>Baltimore, MD 21201</td>\n",
       "      <td>410-962-3092</td>\n",
       "      <td>[Baltimore,, MD, 21201]</td>\n",
       "    </tr>\n",
       "    <tr>\n",
       "      <th>28</th>\n",
       "      <td>Boston</td>\n",
       "      <td>JFK Federal Building\\n   15 New Sudbury Street...</td>\n",
       "      <td>Feder, Robin\\n   Furlong Jr., John M.\\n   Gagn...</td>\n",
       "      <td>Xu, Fang</td>\n",
       "      <td>15 New Sudbury Street</td>\n",
       "      <td>Room 320</td>\n",
       "      <td>Boston, MA 02203</td>\n",
       "      <td>[Room, 320]</td>\n",
       "    </tr>\n",
       "    <tr>\n",
       "      <th>29</th>\n",
       "      <td>Detroit</td>\n",
       "      <td>P.V. McNamara Federal Building\\n   477 Michiga...</td>\n",
       "      <td>Gorland, Jennifer M.\\n   Jebson, Mark J.\\n   P...</td>\n",
       "      <td>Shelley, Shandra</td>\n",
       "      <td>477 Michigan Avenue, Suite 440</td>\n",
       "      <td>Detroit, MI 48226</td>\n",
       "      <td>313-226-2603</td>\n",
       "      <td>[Detroit,, MI, 48226]</td>\n",
       "    </tr>\n",
       "    <tr>\n",
       "      <th>30</th>\n",
       "      <td>Fort Snelling</td>\n",
       "      <td>Bishop Henry Whipple Federal Bldg.\\n   1 Feder...</td>\n",
       "      <td>Carr, M. Audrey\\n   Dierkes, Joseph\\n   Hansen...</td>\n",
       "      <td>Baldwin, Elizabeth</td>\n",
       "      <td>1 Federal Drive, Suite 1850</td>\n",
       "      <td>Fort Snelling, MN 55111</td>\n",
       "      <td>612-725-3765</td>\n",
       "      <td>[Fort, Snelling,, MN, 55111]</td>\n",
       "    </tr>\n",
       "  </tbody>\n",
       "</table>\n",
       "</div>"
      ],
      "text/plain": [
       "            Court                                            Address  \\\n",
       "25    New Orleans  One Canal Place\\n   365 Canal Street, Suite 50...   \n",
       "26        Oakdale  1900 E. Whatley Road\\n   Oakdale, LA 71463\\n  ...   \n",
       "27      Baltimore  George Fallon Federal Building\\n   31 Hopkins ...   \n",
       "28         Boston  JFK Federal Building\\n   15 New Sudbury Street...   \n",
       "29        Detroit  P.V. McNamara Federal Building\\n   477 Michiga...   \n",
       "30  Fort Snelling  Bishop Henry Whipple Federal Bldg.\\n   1 Feder...   \n",
       "\n",
       "                                               Judges  \\\n",
       "25  La Rocca, Joseph B.\\n   Marquez, Charlotte S.\\...   \n",
       "26  Ashworth, Sherron\\n   Duck Jr., John A.\\n   La...   \n",
       "27  Crosland, David W.\\n   Golparvar, Kuyomars Q.\\...   \n",
       "28  Feder, Robin\\n   Furlong Jr., John M.\\n   Gagn...   \n",
       "29  Gorland, Jennifer M.\\n   Jebson, Mark J.\\n   P...   \n",
       "30  Carr, M. Audrey\\n   Dierkes, Joseph\\n   Hansen...   \n",
       "\n",
       "                        Ct Admin                             Street  \\\n",
       "25  González, Robert C. (Acting)        365 Canal Street, Suite 500   \n",
       "26     Davis, J. Thomas (Acting)               1900 E. Whatley Road   \n",
       "27                  Cook, Brenda          31 Hopkins Plaza, Rm. 440   \n",
       "28                      Xu, Fang              15 New Sudbury Street   \n",
       "29              Shelley, Shandra     477 Michigan Avenue, Suite 440   \n",
       "30            Baldwin, Elizabeth        1 Federal Drive, Suite 1850   \n",
       "\n",
       "                       CityZip                Phone  \\\n",
       "25       New Orleans, LA 70130         504-589-3992   \n",
       "26           Oakdale, LA 71463         318-335-0365   \n",
       "27         Baltimore, MD 21201         410-962-3092   \n",
       "28                    Room 320     Boston, MA 02203   \n",
       "29           Detroit, MI 48226         313-226-2603   \n",
       "30     Fort Snelling, MN 55111         612-725-3765   \n",
       "\n",
       "                          cz_fix  \n",
       "25    [New, Orleans,, LA, 70130]  \n",
       "26         [Oakdale,, LA, 71463]  \n",
       "27       [Baltimore,, MD, 21201]  \n",
       "28                   [Room, 320]  \n",
       "29         [Detroit,, MI, 48226]  \n",
       "30  [Fort, Snelling,, MN, 55111]  "
      ]
     },
     "metadata": {},
     "execution_count": 102
    }
   ],
   "metadata": {}
  },
  {
   "cell_type": "code",
   "execution_count": 103,
   "source": [
    "for i in range(len(df2['CityZip'])):\n",
    "    try:\n",
    "        int(df2['cz_fix'][i][-1])\n",
    "        if int(df2['cz_fix'][i][-1])<1000:\n",
    "            df2['CityZip'][i]= new[3][i]\n",
    "            df2['Phone'][i]= new[4][i]\n",
    "    except:\n",
    "        pass"
   ],
   "outputs": [],
   "metadata": {}
  },
  {
   "cell_type": "code",
   "execution_count": 104,
   "source": [
    "df2.loc[25:30]\n"
   ],
   "outputs": [
    {
     "output_type": "execute_result",
     "data": {
      "text/html": [
       "<div>\n",
       "<style scoped>\n",
       "    .dataframe tbody tr th:only-of-type {\n",
       "        vertical-align: middle;\n",
       "    }\n",
       "\n",
       "    .dataframe tbody tr th {\n",
       "        vertical-align: top;\n",
       "    }\n",
       "\n",
       "    .dataframe thead th {\n",
       "        text-align: right;\n",
       "    }\n",
       "</style>\n",
       "<table border=\"1\" class=\"dataframe\">\n",
       "  <thead>\n",
       "    <tr style=\"text-align: right;\">\n",
       "      <th></th>\n",
       "      <th>Court</th>\n",
       "      <th>Address</th>\n",
       "      <th>Judges</th>\n",
       "      <th>Ct Admin</th>\n",
       "      <th>Street</th>\n",
       "      <th>CityZip</th>\n",
       "      <th>Phone</th>\n",
       "      <th>cz_fix</th>\n",
       "    </tr>\n",
       "  </thead>\n",
       "  <tbody>\n",
       "    <tr>\n",
       "      <th>25</th>\n",
       "      <td>New Orleans</td>\n",
       "      <td>One Canal Place\\n   365 Canal Street, Suite 50...</td>\n",
       "      <td>La Rocca, Joseph B.\\n   Marquez, Charlotte S.\\...</td>\n",
       "      <td>González, Robert C. (Acting)</td>\n",
       "      <td>365 Canal Street, Suite 500</td>\n",
       "      <td>New Orleans, LA 70130</td>\n",
       "      <td>504-589-3992</td>\n",
       "      <td>[New, Orleans,, LA, 70130]</td>\n",
       "    </tr>\n",
       "    <tr>\n",
       "      <th>26</th>\n",
       "      <td>Oakdale</td>\n",
       "      <td>1900 E. Whatley Road\\n   Oakdale, LA 71463\\n  ...</td>\n",
       "      <td>Ashworth, Sherron\\n   Duck Jr., John A.\\n   La...</td>\n",
       "      <td>Davis, J. Thomas (Acting)</td>\n",
       "      <td>1900 E. Whatley Road</td>\n",
       "      <td>Oakdale, LA 71463</td>\n",
       "      <td>318-335-0365</td>\n",
       "      <td>[Oakdale,, LA, 71463]</td>\n",
       "    </tr>\n",
       "    <tr>\n",
       "      <th>27</th>\n",
       "      <td>Baltimore</td>\n",
       "      <td>George Fallon Federal Building\\n   31 Hopkins ...</td>\n",
       "      <td>Crosland, David W.\\n   Golparvar, Kuyomars Q.\\...</td>\n",
       "      <td>Cook, Brenda</td>\n",
       "      <td>31 Hopkins Plaza, Rm. 440</td>\n",
       "      <td>Baltimore, MD 21201</td>\n",
       "      <td>410-962-3092</td>\n",
       "      <td>[Baltimore,, MD, 21201]</td>\n",
       "    </tr>\n",
       "    <tr>\n",
       "      <th>28</th>\n",
       "      <td>Boston</td>\n",
       "      <td>JFK Federal Building\\n   15 New Sudbury Street...</td>\n",
       "      <td>Feder, Robin\\n   Furlong Jr., John M.\\n   Gagn...</td>\n",
       "      <td>Xu, Fang</td>\n",
       "      <td>15 New Sudbury Street</td>\n",
       "      <td>Boston, MA 02203</td>\n",
       "      <td>617-565-3080</td>\n",
       "      <td>[Room, 320]</td>\n",
       "    </tr>\n",
       "    <tr>\n",
       "      <th>29</th>\n",
       "      <td>Detroit</td>\n",
       "      <td>P.V. McNamara Federal Building\\n   477 Michiga...</td>\n",
       "      <td>Gorland, Jennifer M.\\n   Jebson, Mark J.\\n   P...</td>\n",
       "      <td>Shelley, Shandra</td>\n",
       "      <td>477 Michigan Avenue, Suite 440</td>\n",
       "      <td>Detroit, MI 48226</td>\n",
       "      <td>313-226-2603</td>\n",
       "      <td>[Detroit,, MI, 48226]</td>\n",
       "    </tr>\n",
       "    <tr>\n",
       "      <th>30</th>\n",
       "      <td>Fort Snelling</td>\n",
       "      <td>Bishop Henry Whipple Federal Bldg.\\n   1 Feder...</td>\n",
       "      <td>Carr, M. Audrey\\n   Dierkes, Joseph\\n   Hansen...</td>\n",
       "      <td>Baldwin, Elizabeth</td>\n",
       "      <td>1 Federal Drive, Suite 1850</td>\n",
       "      <td>Fort Snelling, MN 55111</td>\n",
       "      <td>612-725-3765</td>\n",
       "      <td>[Fort, Snelling,, MN, 55111]</td>\n",
       "    </tr>\n",
       "  </tbody>\n",
       "</table>\n",
       "</div>"
      ],
      "text/plain": [
       "            Court                                            Address  \\\n",
       "25    New Orleans  One Canal Place\\n   365 Canal Street, Suite 50...   \n",
       "26        Oakdale  1900 E. Whatley Road\\n   Oakdale, LA 71463\\n  ...   \n",
       "27      Baltimore  George Fallon Federal Building\\n   31 Hopkins ...   \n",
       "28         Boston  JFK Federal Building\\n   15 New Sudbury Street...   \n",
       "29        Detroit  P.V. McNamara Federal Building\\n   477 Michiga...   \n",
       "30  Fort Snelling  Bishop Henry Whipple Federal Bldg.\\n   1 Feder...   \n",
       "\n",
       "                                               Judges  \\\n",
       "25  La Rocca, Joseph B.\\n   Marquez, Charlotte S.\\...   \n",
       "26  Ashworth, Sherron\\n   Duck Jr., John A.\\n   La...   \n",
       "27  Crosland, David W.\\n   Golparvar, Kuyomars Q.\\...   \n",
       "28  Feder, Robin\\n   Furlong Jr., John M.\\n   Gagn...   \n",
       "29  Gorland, Jennifer M.\\n   Jebson, Mark J.\\n   P...   \n",
       "30  Carr, M. Audrey\\n   Dierkes, Joseph\\n   Hansen...   \n",
       "\n",
       "                        Ct Admin                             Street  \\\n",
       "25  González, Robert C. (Acting)        365 Canal Street, Suite 500   \n",
       "26     Davis, J. Thomas (Acting)               1900 E. Whatley Road   \n",
       "27                  Cook, Brenda          31 Hopkins Plaza, Rm. 440   \n",
       "28                      Xu, Fang              15 New Sudbury Street   \n",
       "29              Shelley, Shandra     477 Michigan Avenue, Suite 440   \n",
       "30            Baldwin, Elizabeth        1 Federal Drive, Suite 1850   \n",
       "\n",
       "                       CityZip            Phone                        cz_fix  \n",
       "25       New Orleans, LA 70130     504-589-3992    [New, Orleans,, LA, 70130]  \n",
       "26           Oakdale, LA 71463     318-335-0365         [Oakdale,, LA, 71463]  \n",
       "27         Baltimore, MD 21201     410-962-3092       [Baltimore,, MD, 21201]  \n",
       "28            Boston, MA 02203     617-565-3080                   [Room, 320]  \n",
       "29           Detroit, MI 48226     313-226-2603         [Detroit,, MI, 48226]  \n",
       "30     Fort Snelling, MN 55111     612-725-3765  [Fort, Snelling,, MN, 55111]  "
      ]
     },
     "metadata": {},
     "execution_count": 104
    }
   ],
   "metadata": {}
  },
  {
   "cell_type": "code",
   "execution_count": 105,
   "source": [
    "df2.CityZip"
   ],
   "outputs": [
    {
     "output_type": "execute_result",
     "data": {
      "text/plain": [
       "0             Eloy, AZ 85131\n",
       "1         Florence, AZ 85132\n",
       "2          Phoenix, AZ 85007\n",
       "3           Tucson, AZ 85701\n",
       "4         Adelanto, CA 92301\n",
       "               ...          \n",
       "65       Arlington, VA 22202\n",
       "66    Falls Church, VA 22041\n",
       "67        Richmond, VA 23219\n",
       "68         Seattle, WA 98174\n",
       "69          Tacoma, WA 98421\n",
       "Name: CityZip, Length: 70, dtype: object"
      ]
     },
     "metadata": {},
     "execution_count": 105
    }
   ],
   "metadata": {}
  },
  {
   "cell_type": "code",
   "execution_count": 106,
   "source": [
    "df2['Judges'] = df2.Judges.apply(lambda x: x.split('\\n'))\n",
    "\n",
    "for p in range(len(df2['Judges'])):\n",
    "    for i in range(len(df2['Judges'][p])):\n",
    "        df2['Judges'][p][i] = df2['Judges'][p][i].lstrip()"
   ],
   "outputs": [],
   "metadata": {}
  },
  {
   "cell_type": "code",
   "execution_count": 107,
   "source": [
    "df2.loc[4]"
   ],
   "outputs": [
    {
     "output_type": "execute_result",
     "data": {
      "text/plain": [
       "Court                                                Adelanto\n",
       "Address     Adelanto Detention Facility\\n   10250 Rancho R...\n",
       "Judges      [DePowell, Bryan E., Halperin, Ravit R., Marcu...\n",
       "Ct Admin                            Roberts, Valerie (Acting)\n",
       "Street                           10250 Rancho Road, Ste. 201A\n",
       "CityZip                                    Adelanto, CA 92301\n",
       "Phone                                            760-561-6500\n",
       "cz_fix                                 [Adelanto,, CA, 92301]\n",
       "Name: 4, dtype: object"
      ]
     },
     "metadata": {},
     "execution_count": 107
    }
   ],
   "metadata": {}
  },
  {
   "cell_type": "code",
   "execution_count": 108,
   "source": [
    "url = 'https://nominatim.openstreetmap.org/search/' + urllib.parse.quote(df2['CityZip'][10]) +'?format=json'\n",
    "response = requests.get(url).json()\n",
    "print('Latitude: '+response[0]['lat']+', Longitude: '+response[0]['lon'])"
   ],
   "outputs": [
    {
     "output_type": "stream",
     "name": "stdout",
     "text": [
      "Latitude: 38.5810606, Longitude: -121.493895\n"
     ]
    }
   ],
   "metadata": {}
  },
  {
   "cell_type": "code",
   "execution_count": 109,
   "source": [
    "range(len(df2['CityZip'])-1)"
   ],
   "outputs": [
    {
     "output_type": "execute_result",
     "data": {
      "text/plain": [
       "range(0, 69)"
      ]
     },
     "metadata": {},
     "execution_count": 109
    }
   ],
   "metadata": {}
  },
  {
   "cell_type": "code",
   "execution_count": 110,
   "source": [
    "lat=[]\n",
    "lon=[]\n",
    "for i in range(len(df2['CityZip'])):\n",
    "# for i in range(5):   \n",
    "    url = 'https://nominatim.openstreetmap.org/search/' + urllib.parse.quote(str(df2['CityZip'][i])) +'?format=json'\n",
    "    response = requests.get(url).json()\n",
    "    # print('Latitude: '+response[0]['lat']+', Longitude: '+response[0]['lon'])\n",
    "     \n",
    "    lat.append(response[0]['lat'])\n",
    "    lon.append(response[0]['lon'])\n",
    "df2.tail()"
   ],
   "outputs": [
    {
     "output_type": "execute_result",
     "data": {
      "text/html": [
       "<div>\n",
       "<style scoped>\n",
       "    .dataframe tbody tr th:only-of-type {\n",
       "        vertical-align: middle;\n",
       "    }\n",
       "\n",
       "    .dataframe tbody tr th {\n",
       "        vertical-align: top;\n",
       "    }\n",
       "\n",
       "    .dataframe thead th {\n",
       "        text-align: right;\n",
       "    }\n",
       "</style>\n",
       "<table border=\"1\" class=\"dataframe\">\n",
       "  <thead>\n",
       "    <tr style=\"text-align: right;\">\n",
       "      <th></th>\n",
       "      <th>Court</th>\n",
       "      <th>Address</th>\n",
       "      <th>Judges</th>\n",
       "      <th>Ct Admin</th>\n",
       "      <th>Street</th>\n",
       "      <th>CityZip</th>\n",
       "      <th>Phone</th>\n",
       "      <th>cz_fix</th>\n",
       "    </tr>\n",
       "  </thead>\n",
       "  <tbody>\n",
       "    <tr>\n",
       "      <th>65</th>\n",
       "      <td>Arlington</td>\n",
       "      <td>1901 South Bell Street, Suite 200\\n   Arlingto...</td>\n",
       "      <td>[Barnes, John Cody, Bryant, John M., Burman, L...</td>\n",
       "      <td>Cortes, Juan</td>\n",
       "      <td>1901 South Bell Street, Suite 200</td>\n",
       "      <td>Arlington, VA 22202</td>\n",
       "      <td>703-603-1300</td>\n",
       "      <td>[Arlington,, VA, 22202]</td>\n",
       "    </tr>\n",
       "    <tr>\n",
       "      <th>66</th>\n",
       "      <td>Falls Church IAC</td>\n",
       "      <td>5107 Leesburg Pike\\n   Falls Church, VA 22041\\...</td>\n",
       "      <td>[De Cardona, Lisa, Farrar-Crockett, Emily N., ...</td>\n",
       "      <td>Meyers, Natalie</td>\n",
       "      <td>5107 Leesburg Pike</td>\n",
       "      <td>Falls Church, VA 22041</td>\n",
       "      <td>703-756-8002</td>\n",
       "      <td>[Falls, Church,, VA, 22041]</td>\n",
       "    </tr>\n",
       "    <tr>\n",
       "      <th>67</th>\n",
       "      <td>Richmond IAC</td>\n",
       "      <td>10 S. 6th Street\\n   Richmond, VA 23219\\n   80...</td>\n",
       "      <td>[Kaplan, Elliot M., Napier, Wade T., Palmer, B...</td>\n",
       "      <td>English-Figueroa, Yolanda</td>\n",
       "      <td>10 S. 6th Street</td>\n",
       "      <td>Richmond, VA 23219</td>\n",
       "      <td>804-343-2900</td>\n",
       "      <td>[Richmond,, VA, 23219]</td>\n",
       "    </tr>\n",
       "    <tr>\n",
       "      <th>68</th>\n",
       "      <td>Seattle</td>\n",
       "      <td>915 2nd Ave., Suite 613\\n   Seattle, WA 98174\\...</td>\n",
       "      <td>[Evans, David W., Johnson, Shane E., McSeveney...</td>\n",
       "      <td>Neifert, Joseph (Acting)</td>\n",
       "      <td>915 2nd Ave., Suite 613</td>\n",
       "      <td>Seattle, WA 98174</td>\n",
       "      <td>206-342-7200</td>\n",
       "      <td>[Seattle,, WA, 98174]</td>\n",
       "    </tr>\n",
       "    <tr>\n",
       "      <th>69</th>\n",
       "      <td>Tacoma</td>\n",
       "      <td>1623 East J Street, Suite 3\\n   Tacoma, WA 984...</td>\n",
       "      <td>[Fitting, Tammy, Floyd, Charles Neil, Odell, J...</td>\n",
       "      <td>Neifert, Joseph</td>\n",
       "      <td>1623 East J Street, Suite 3</td>\n",
       "      <td>Tacoma, WA 98421</td>\n",
       "      <td>253-779-6020</td>\n",
       "      <td>[Tacoma,, WA, 98421]</td>\n",
       "    </tr>\n",
       "  </tbody>\n",
       "</table>\n",
       "</div>"
      ],
      "text/plain": [
       "               Court                                            Address  \\\n",
       "65         Arlington  1901 South Bell Street, Suite 200\\n   Arlingto...   \n",
       "66  Falls Church IAC  5107 Leesburg Pike\\n   Falls Church, VA 22041\\...   \n",
       "67      Richmond IAC  10 S. 6th Street\\n   Richmond, VA 23219\\n   80...   \n",
       "68           Seattle  915 2nd Ave., Suite 613\\n   Seattle, WA 98174\\...   \n",
       "69            Tacoma  1623 East J Street, Suite 3\\n   Tacoma, WA 984...   \n",
       "\n",
       "                                               Judges  \\\n",
       "65  [Barnes, John Cody, Bryant, John M., Burman, L...   \n",
       "66  [De Cardona, Lisa, Farrar-Crockett, Emily N., ...   \n",
       "67  [Kaplan, Elliot M., Napier, Wade T., Palmer, B...   \n",
       "68  [Evans, David W., Johnson, Shane E., McSeveney...   \n",
       "69  [Fitting, Tammy, Floyd, Charles Neil, Odell, J...   \n",
       "\n",
       "                     Ct Admin                             Street  \\\n",
       "65               Cortes, Juan  1901 South Bell Street, Suite 200   \n",
       "66            Meyers, Natalie                 5107 Leesburg Pike   \n",
       "67  English-Figueroa, Yolanda                   10 S. 6th Street   \n",
       "68   Neifert, Joseph (Acting)            915 2nd Ave., Suite 613   \n",
       "69            Neifert, Joseph        1623 East J Street, Suite 3   \n",
       "\n",
       "                   CityZip         Phone                       cz_fix  \n",
       "65     Arlington, VA 22202  703-603-1300      [Arlington,, VA, 22202]  \n",
       "66  Falls Church, VA 22041  703-756-8002  [Falls, Church,, VA, 22041]  \n",
       "67      Richmond, VA 23219  804-343-2900       [Richmond,, VA, 23219]  \n",
       "68       Seattle, WA 98174  206-342-7200        [Seattle,, WA, 98174]  \n",
       "69        Tacoma, WA 98421  253-779-6020         [Tacoma,, WA, 98421]  "
      ]
     },
     "metadata": {},
     "execution_count": 110
    }
   ],
   "metadata": {}
  },
  {
   "cell_type": "code",
   "execution_count": 111,
   "source": [
    "len(lon)"
   ],
   "outputs": [
    {
     "output_type": "execute_result",
     "data": {
      "text/plain": [
       "70"
      ]
     },
     "metadata": {},
     "execution_count": 111
    }
   ],
   "metadata": {}
  },
  {
   "cell_type": "code",
   "execution_count": 112,
   "source": [
    "# for i in range(len(df2['CityZip'])-1):\n",
    "#     df2['Latitude'][i] = lat[i]\n",
    "#     df2['Longitude'][i] = lon[i]\n",
    "df2 = df2.assign(Latitude = pd.Series(lat).values.astype(float))\n",
    "df2 = df2.assign(Longitude = pd.Series(lon).values.astype(float))\n",
    "df2.head()\n"
   ],
   "outputs": [
    {
     "output_type": "execute_result",
     "data": {
      "text/html": [
       "<div>\n",
       "<style scoped>\n",
       "    .dataframe tbody tr th:only-of-type {\n",
       "        vertical-align: middle;\n",
       "    }\n",
       "\n",
       "    .dataframe tbody tr th {\n",
       "        vertical-align: top;\n",
       "    }\n",
       "\n",
       "    .dataframe thead th {\n",
       "        text-align: right;\n",
       "    }\n",
       "</style>\n",
       "<table border=\"1\" class=\"dataframe\">\n",
       "  <thead>\n",
       "    <tr style=\"text-align: right;\">\n",
       "      <th></th>\n",
       "      <th>Court</th>\n",
       "      <th>Address</th>\n",
       "      <th>Judges</th>\n",
       "      <th>Ct Admin</th>\n",
       "      <th>Street</th>\n",
       "      <th>CityZip</th>\n",
       "      <th>Phone</th>\n",
       "      <th>cz_fix</th>\n",
       "      <th>Latitude</th>\n",
       "      <th>Longitude</th>\n",
       "    </tr>\n",
       "  </thead>\n",
       "  <tbody>\n",
       "    <tr>\n",
       "      <th>0</th>\n",
       "      <td>Eloy</td>\n",
       "      <td>1705 E. Hanna Road, Suite 366\\n   Eloy, AZ 851...</td>\n",
       "      <td>[Cortes, John W., Gaz, Jennifer I., Habich, Pa...</td>\n",
       "      <td>Padilla, Victoria</td>\n",
       "      <td>1705 E. Hanna Road, Suite 366</td>\n",
       "      <td>Eloy, AZ 85131</td>\n",
       "      <td>520-466-3671</td>\n",
       "      <td>[Eloy,, AZ, 85131]</td>\n",
       "      <td>32.755170</td>\n",
       "      <td>-111.553493</td>\n",
       "    </tr>\n",
       "    <tr>\n",
       "      <th>1</th>\n",
       "      <td>Florence</td>\n",
       "      <td>3260 N. Pinal Parkway Avenue\\n   Florence, AZ ...</td>\n",
       "      <td>[Guerrero, Marni, Taylor, Bruce A.]</td>\n",
       "      <td>Toliusis, Rachel</td>\n",
       "      <td>3260 N. Pinal Parkway Avenue</td>\n",
       "      <td>Florence, AZ 85132</td>\n",
       "      <td>520-868-3341</td>\n",
       "      <td>[Florence,, AZ, 85132]</td>\n",
       "      <td>33.031451</td>\n",
       "      <td>-111.387343</td>\n",
       "    </tr>\n",
       "    <tr>\n",
       "      <th>2</th>\n",
       "      <td>Phoenix</td>\n",
       "      <td>250 N. Seventh Ave., Suite 300\\n   Phoenix, AZ...</td>\n",
       "      <td>[Bartlemay Sr., Robert C., Cottor, Elizabeth A...</td>\n",
       "      <td>Riebs, Sathya</td>\n",
       "      <td>250 N. Seventh Ave., Suite 300</td>\n",
       "      <td>Phoenix, AZ 85007</td>\n",
       "      <td>602-640-2747</td>\n",
       "      <td>[Phoenix,, AZ, 85007]</td>\n",
       "      <td>33.448437</td>\n",
       "      <td>-112.074142</td>\n",
       "    </tr>\n",
       "    <tr>\n",
       "      <th>3</th>\n",
       "      <td>Tucson</td>\n",
       "      <td>300 West Congress, Suite 300\\n   Tucson, AZ 85...</td>\n",
       "      <td>[Davis, John W., DeAngelis, Kathryn L., Keenan...</td>\n",
       "      <td>Graff, Corey</td>\n",
       "      <td>300 West Congress, Suite 300</td>\n",
       "      <td>Tucson, AZ 85701</td>\n",
       "      <td>520-670-5212</td>\n",
       "      <td>[Tucson,, AZ, 85701]</td>\n",
       "      <td>32.222876</td>\n",
       "      <td>-110.974848</td>\n",
       "    </tr>\n",
       "    <tr>\n",
       "      <th>4</th>\n",
       "      <td>Adelanto</td>\n",
       "      <td>Adelanto Detention Facility\\n   10250 Rancho R...</td>\n",
       "      <td>[DePowell, Bryan E., Halperin, Ravit R., Marcu...</td>\n",
       "      <td>Roberts, Valerie (Acting)</td>\n",
       "      <td>10250 Rancho Road, Ste. 201A</td>\n",
       "      <td>Adelanto, CA 92301</td>\n",
       "      <td>760-561-6500</td>\n",
       "      <td>[Adelanto,, CA, 92301]</td>\n",
       "      <td>34.582770</td>\n",
       "      <td>-117.409215</td>\n",
       "    </tr>\n",
       "  </tbody>\n",
       "</table>\n",
       "</div>"
      ],
      "text/plain": [
       "      Court                                            Address  \\\n",
       "0      Eloy  1705 E. Hanna Road, Suite 366\\n   Eloy, AZ 851...   \n",
       "1  Florence  3260 N. Pinal Parkway Avenue\\n   Florence, AZ ...   \n",
       "2   Phoenix  250 N. Seventh Ave., Suite 300\\n   Phoenix, AZ...   \n",
       "3    Tucson  300 West Congress, Suite 300\\n   Tucson, AZ 85...   \n",
       "4  Adelanto  Adelanto Detention Facility\\n   10250 Rancho R...   \n",
       "\n",
       "                                              Judges  \\\n",
       "0  [Cortes, John W., Gaz, Jennifer I., Habich, Pa...   \n",
       "1                [Guerrero, Marni, Taylor, Bruce A.]   \n",
       "2  [Bartlemay Sr., Robert C., Cottor, Elizabeth A...   \n",
       "3  [Davis, John W., DeAngelis, Kathryn L., Keenan...   \n",
       "4  [DePowell, Bryan E., Halperin, Ravit R., Marcu...   \n",
       "\n",
       "                    Ct Admin                           Street  \\\n",
       "0          Padilla, Victoria    1705 E. Hanna Road, Suite 366   \n",
       "1           Toliusis, Rachel     3260 N. Pinal Parkway Avenue   \n",
       "2              Riebs, Sathya   250 N. Seventh Ave., Suite 300   \n",
       "3               Graff, Corey     300 West Congress, Suite 300   \n",
       "4  Roberts, Valerie (Acting)     10250 Rancho Road, Ste. 201A   \n",
       "\n",
       "                 CityZip            Phone                  cz_fix   Latitude  \\\n",
       "0         Eloy, AZ 85131     520-466-3671      [Eloy,, AZ, 85131]  32.755170   \n",
       "1     Florence, AZ 85132     520-868-3341  [Florence,, AZ, 85132]  33.031451   \n",
       "2      Phoenix, AZ 85007     602-640-2747   [Phoenix,, AZ, 85007]  33.448437   \n",
       "3       Tucson, AZ 85701     520-670-5212    [Tucson,, AZ, 85701]  32.222876   \n",
       "4     Adelanto, CA 92301     760-561-6500  [Adelanto,, CA, 92301]  34.582770   \n",
       "\n",
       "    Longitude  \n",
       "0 -111.553493  \n",
       "1 -111.387343  \n",
       "2 -112.074142  \n",
       "3 -110.974848  \n",
       "4 -117.409215  "
      ]
     },
     "metadata": {},
     "execution_count": 112
    }
   ],
   "metadata": {}
  },
  {
   "cell_type": "code",
   "execution_count": 113,
   "source": [
    "import matplotlib.pyplot as plt\n",
    "import descartes\n",
    "import geopandas as gpd\n",
    "from shapely.geometry import Point, Polygon\n",
    "\n",
    "%matplotlib inline"
   ],
   "outputs": [],
   "metadata": {}
  },
  {
   "cell_type": "code",
   "execution_count": 114,
   "source": [
    "geometry = [Point(xy) for xy in zip(df2['Longitude'], df2['Latitude'])]\n",
    "geometry[:3]"
   ],
   "outputs": [
    {
     "output_type": "execute_result",
     "data": {
      "text/plain": [
       "[<shapely.geometry.point.Point at 0x79e611c99b00>,\n",
       " <shapely.geometry.point.Point at 0x79e611c996d8>,\n",
       " <shapely.geometry.point.Point at 0x79e611c999e8>]"
      ]
     },
     "metadata": {},
     "execution_count": 114
    }
   ],
   "metadata": {}
  },
  {
   "cell_type": "code",
   "execution_count": 117,
   "source": [
    "\n",
    "# crs = crs.set_crs('espg:4326')\n",
    "geo_df = gpd.GeoDataFrame(df2, crs=4326,geometry=geometry)\n",
    "geo_df= geo_df.drop(['Address'], axis=1)\n",
    "geo_df.head()"
   ],
   "outputs": [
    {
     "output_type": "execute_result",
     "data": {
      "text/html": [
       "<div>\n",
       "<style scoped>\n",
       "    .dataframe tbody tr th:only-of-type {\n",
       "        vertical-align: middle;\n",
       "    }\n",
       "\n",
       "    .dataframe tbody tr th {\n",
       "        vertical-align: top;\n",
       "    }\n",
       "\n",
       "    .dataframe thead th {\n",
       "        text-align: right;\n",
       "    }\n",
       "</style>\n",
       "<table border=\"1\" class=\"dataframe\">\n",
       "  <thead>\n",
       "    <tr style=\"text-align: right;\">\n",
       "      <th></th>\n",
       "      <th>Court</th>\n",
       "      <th>Judges</th>\n",
       "      <th>Ct Admin</th>\n",
       "      <th>Street</th>\n",
       "      <th>CityZip</th>\n",
       "      <th>Phone</th>\n",
       "      <th>cz_fix</th>\n",
       "      <th>Latitude</th>\n",
       "      <th>Longitude</th>\n",
       "      <th>geometry</th>\n",
       "    </tr>\n",
       "  </thead>\n",
       "  <tbody>\n",
       "    <tr>\n",
       "      <th>0</th>\n",
       "      <td>Eloy</td>\n",
       "      <td>[Cortes, John W., Gaz, Jennifer I., Habich, Pa...</td>\n",
       "      <td>Padilla, Victoria</td>\n",
       "      <td>1705 E. Hanna Road, Suite 366</td>\n",
       "      <td>Eloy, AZ 85131</td>\n",
       "      <td>520-466-3671</td>\n",
       "      <td>[Eloy,, AZ, 85131]</td>\n",
       "      <td>32.755170</td>\n",
       "      <td>-111.553493</td>\n",
       "      <td>POINT (-111.55349 32.75517)</td>\n",
       "    </tr>\n",
       "    <tr>\n",
       "      <th>1</th>\n",
       "      <td>Florence</td>\n",
       "      <td>[Guerrero, Marni, Taylor, Bruce A.]</td>\n",
       "      <td>Toliusis, Rachel</td>\n",
       "      <td>3260 N. Pinal Parkway Avenue</td>\n",
       "      <td>Florence, AZ 85132</td>\n",
       "      <td>520-868-3341</td>\n",
       "      <td>[Florence,, AZ, 85132]</td>\n",
       "      <td>33.031451</td>\n",
       "      <td>-111.387343</td>\n",
       "      <td>POINT (-111.38734 33.03145)</td>\n",
       "    </tr>\n",
       "    <tr>\n",
       "      <th>2</th>\n",
       "      <td>Phoenix</td>\n",
       "      <td>[Bartlemay Sr., Robert C., Cottor, Elizabeth A...</td>\n",
       "      <td>Riebs, Sathya</td>\n",
       "      <td>250 N. Seventh Ave., Suite 300</td>\n",
       "      <td>Phoenix, AZ 85007</td>\n",
       "      <td>602-640-2747</td>\n",
       "      <td>[Phoenix,, AZ, 85007]</td>\n",
       "      <td>33.448437</td>\n",
       "      <td>-112.074142</td>\n",
       "      <td>POINT (-112.07414 33.44844)</td>\n",
       "    </tr>\n",
       "    <tr>\n",
       "      <th>3</th>\n",
       "      <td>Tucson</td>\n",
       "      <td>[Davis, John W., DeAngelis, Kathryn L., Keenan...</td>\n",
       "      <td>Graff, Corey</td>\n",
       "      <td>300 West Congress, Suite 300</td>\n",
       "      <td>Tucson, AZ 85701</td>\n",
       "      <td>520-670-5212</td>\n",
       "      <td>[Tucson,, AZ, 85701]</td>\n",
       "      <td>32.222876</td>\n",
       "      <td>-110.974848</td>\n",
       "      <td>POINT (-110.97485 32.22288)</td>\n",
       "    </tr>\n",
       "    <tr>\n",
       "      <th>4</th>\n",
       "      <td>Adelanto</td>\n",
       "      <td>[DePowell, Bryan E., Halperin, Ravit R., Marcu...</td>\n",
       "      <td>Roberts, Valerie (Acting)</td>\n",
       "      <td>10250 Rancho Road, Ste. 201A</td>\n",
       "      <td>Adelanto, CA 92301</td>\n",
       "      <td>760-561-6500</td>\n",
       "      <td>[Adelanto,, CA, 92301]</td>\n",
       "      <td>34.582770</td>\n",
       "      <td>-117.409215</td>\n",
       "      <td>POINT (-117.40922 34.58277)</td>\n",
       "    </tr>\n",
       "  </tbody>\n",
       "</table>\n",
       "</div>"
      ],
      "text/plain": [
       "      Court                                             Judges  \\\n",
       "0      Eloy  [Cortes, John W., Gaz, Jennifer I., Habich, Pa...   \n",
       "1  Florence                [Guerrero, Marni, Taylor, Bruce A.]   \n",
       "2   Phoenix  [Bartlemay Sr., Robert C., Cottor, Elizabeth A...   \n",
       "3    Tucson  [Davis, John W., DeAngelis, Kathryn L., Keenan...   \n",
       "4  Adelanto  [DePowell, Bryan E., Halperin, Ravit R., Marcu...   \n",
       "\n",
       "                    Ct Admin                           Street  \\\n",
       "0          Padilla, Victoria    1705 E. Hanna Road, Suite 366   \n",
       "1           Toliusis, Rachel     3260 N. Pinal Parkway Avenue   \n",
       "2              Riebs, Sathya   250 N. Seventh Ave., Suite 300   \n",
       "3               Graff, Corey     300 West Congress, Suite 300   \n",
       "4  Roberts, Valerie (Acting)     10250 Rancho Road, Ste. 201A   \n",
       "\n",
       "                 CityZip            Phone                  cz_fix   Latitude  \\\n",
       "0         Eloy, AZ 85131     520-466-3671      [Eloy,, AZ, 85131]  32.755170   \n",
       "1     Florence, AZ 85132     520-868-3341  [Florence,, AZ, 85132]  33.031451   \n",
       "2      Phoenix, AZ 85007     602-640-2747   [Phoenix,, AZ, 85007]  33.448437   \n",
       "3       Tucson, AZ 85701     520-670-5212    [Tucson,, AZ, 85701]  32.222876   \n",
       "4     Adelanto, CA 92301     760-561-6500  [Adelanto,, CA, 92301]  34.582770   \n",
       "\n",
       "    Longitude                     geometry  \n",
       "0 -111.553493  POINT (-111.55349 32.75517)  \n",
       "1 -111.387343  POINT (-111.38734 33.03145)  \n",
       "2 -112.074142  POINT (-112.07414 33.44844)  \n",
       "3 -110.974848  POINT (-110.97485 32.22288)  \n",
       "4 -117.409215  POINT (-117.40922 34.58277)  "
      ]
     },
     "metadata": {},
     "execution_count": 117
    }
   ],
   "metadata": {}
  },
  {
   "cell_type": "code",
   "execution_count": 118,
   "source": [
    "\n",
    "geo_df= geo_df[geo_df.Longitude <-50]\n",
    "BBox = ((df2.Longitude.min(), df2.Longitude.max(),df2.Latitude.min(), df2.Latitude.max()))\n",
    "\n",
    "geo_df.head()\n",
    "\n",
    "# geo_df[geo_df['Court']=='York']"
   ],
   "outputs": [
    {
     "output_type": "execute_result",
     "data": {
      "text/html": [
       "<div>\n",
       "<style scoped>\n",
       "    .dataframe tbody tr th:only-of-type {\n",
       "        vertical-align: middle;\n",
       "    }\n",
       "\n",
       "    .dataframe tbody tr th {\n",
       "        vertical-align: top;\n",
       "    }\n",
       "\n",
       "    .dataframe thead th {\n",
       "        text-align: right;\n",
       "    }\n",
       "</style>\n",
       "<table border=\"1\" class=\"dataframe\">\n",
       "  <thead>\n",
       "    <tr style=\"text-align: right;\">\n",
       "      <th></th>\n",
       "      <th>Court</th>\n",
       "      <th>Judges</th>\n",
       "      <th>Ct Admin</th>\n",
       "      <th>Street</th>\n",
       "      <th>CityZip</th>\n",
       "      <th>Phone</th>\n",
       "      <th>cz_fix</th>\n",
       "      <th>Latitude</th>\n",
       "      <th>Longitude</th>\n",
       "      <th>geometry</th>\n",
       "    </tr>\n",
       "  </thead>\n",
       "  <tbody>\n",
       "    <tr>\n",
       "      <th>0</th>\n",
       "      <td>Eloy</td>\n",
       "      <td>[Cortes, John W., Gaz, Jennifer I., Habich, Pa...</td>\n",
       "      <td>Padilla, Victoria</td>\n",
       "      <td>1705 E. Hanna Road, Suite 366</td>\n",
       "      <td>Eloy, AZ 85131</td>\n",
       "      <td>520-466-3671</td>\n",
       "      <td>[Eloy,, AZ, 85131]</td>\n",
       "      <td>32.755170</td>\n",
       "      <td>-111.553493</td>\n",
       "      <td>POINT (-111.55349 32.75517)</td>\n",
       "    </tr>\n",
       "    <tr>\n",
       "      <th>1</th>\n",
       "      <td>Florence</td>\n",
       "      <td>[Guerrero, Marni, Taylor, Bruce A.]</td>\n",
       "      <td>Toliusis, Rachel</td>\n",
       "      <td>3260 N. Pinal Parkway Avenue</td>\n",
       "      <td>Florence, AZ 85132</td>\n",
       "      <td>520-868-3341</td>\n",
       "      <td>[Florence,, AZ, 85132]</td>\n",
       "      <td>33.031451</td>\n",
       "      <td>-111.387343</td>\n",
       "      <td>POINT (-111.38734 33.03145)</td>\n",
       "    </tr>\n",
       "    <tr>\n",
       "      <th>2</th>\n",
       "      <td>Phoenix</td>\n",
       "      <td>[Bartlemay Sr., Robert C., Cottor, Elizabeth A...</td>\n",
       "      <td>Riebs, Sathya</td>\n",
       "      <td>250 N. Seventh Ave., Suite 300</td>\n",
       "      <td>Phoenix, AZ 85007</td>\n",
       "      <td>602-640-2747</td>\n",
       "      <td>[Phoenix,, AZ, 85007]</td>\n",
       "      <td>33.448437</td>\n",
       "      <td>-112.074142</td>\n",
       "      <td>POINT (-112.07414 33.44844)</td>\n",
       "    </tr>\n",
       "    <tr>\n",
       "      <th>3</th>\n",
       "      <td>Tucson</td>\n",
       "      <td>[Davis, John W., DeAngelis, Kathryn L., Keenan...</td>\n",
       "      <td>Graff, Corey</td>\n",
       "      <td>300 West Congress, Suite 300</td>\n",
       "      <td>Tucson, AZ 85701</td>\n",
       "      <td>520-670-5212</td>\n",
       "      <td>[Tucson,, AZ, 85701]</td>\n",
       "      <td>32.222876</td>\n",
       "      <td>-110.974848</td>\n",
       "      <td>POINT (-110.97485 32.22288)</td>\n",
       "    </tr>\n",
       "    <tr>\n",
       "      <th>4</th>\n",
       "      <td>Adelanto</td>\n",
       "      <td>[DePowell, Bryan E., Halperin, Ravit R., Marcu...</td>\n",
       "      <td>Roberts, Valerie (Acting)</td>\n",
       "      <td>10250 Rancho Road, Ste. 201A</td>\n",
       "      <td>Adelanto, CA 92301</td>\n",
       "      <td>760-561-6500</td>\n",
       "      <td>[Adelanto,, CA, 92301]</td>\n",
       "      <td>34.582770</td>\n",
       "      <td>-117.409215</td>\n",
       "      <td>POINT (-117.40922 34.58277)</td>\n",
       "    </tr>\n",
       "  </tbody>\n",
       "</table>\n",
       "</div>"
      ],
      "text/plain": [
       "      Court                                             Judges  \\\n",
       "0      Eloy  [Cortes, John W., Gaz, Jennifer I., Habich, Pa...   \n",
       "1  Florence                [Guerrero, Marni, Taylor, Bruce A.]   \n",
       "2   Phoenix  [Bartlemay Sr., Robert C., Cottor, Elizabeth A...   \n",
       "3    Tucson  [Davis, John W., DeAngelis, Kathryn L., Keenan...   \n",
       "4  Adelanto  [DePowell, Bryan E., Halperin, Ravit R., Marcu...   \n",
       "\n",
       "                    Ct Admin                           Street  \\\n",
       "0          Padilla, Victoria    1705 E. Hanna Road, Suite 366   \n",
       "1           Toliusis, Rachel     3260 N. Pinal Parkway Avenue   \n",
       "2              Riebs, Sathya   250 N. Seventh Ave., Suite 300   \n",
       "3               Graff, Corey     300 West Congress, Suite 300   \n",
       "4  Roberts, Valerie (Acting)     10250 Rancho Road, Ste. 201A   \n",
       "\n",
       "                 CityZip            Phone                  cz_fix   Latitude  \\\n",
       "0         Eloy, AZ 85131     520-466-3671      [Eloy,, AZ, 85131]  32.755170   \n",
       "1     Florence, AZ 85132     520-868-3341  [Florence,, AZ, 85132]  33.031451   \n",
       "2      Phoenix, AZ 85007     602-640-2747   [Phoenix,, AZ, 85007]  33.448437   \n",
       "3       Tucson, AZ 85701     520-670-5212    [Tucson,, AZ, 85701]  32.222876   \n",
       "4     Adelanto, CA 92301     760-561-6500  [Adelanto,, CA, 92301]  34.582770   \n",
       "\n",
       "    Longitude                     geometry  \n",
       "0 -111.553493  POINT (-111.55349 32.75517)  \n",
       "1 -111.387343  POINT (-111.38734 33.03145)  \n",
       "2 -112.074142  POINT (-112.07414 33.44844)  \n",
       "3 -110.974848  POINT (-110.97485 32.22288)  \n",
       "4 -117.409215  POINT (-117.40922 34.58277)  "
      ]
     },
     "metadata": {},
     "execution_count": 118
    }
   ],
   "metadata": {}
  },
  {
   "cell_type": "code",
   "execution_count": 119,
   "source": [
    "us_map=gpd.read_file('data/cb_2020_us_state_20m.shp')"
   ],
   "outputs": [],
   "metadata": {}
  },
  {
   "cell_type": "code",
   "execution_count": 124,
   "source": [
    "\n",
    "\n",
    "fig,ax = plt.subplots(figsize = (25,5))\n",
    "us_map.plot(ax = ax, alpha = 0.4, color='grey')\n",
    "geo_df.plot(ax = ax, markersize = 20, color = 'blue', marker = 'o', label= \"court\")\n",
    "plt.legend(prop={'size': 15})"
   ],
   "outputs": [
    {
     "output_type": "execute_result",
     "data": {
      "text/plain": [
       "<matplotlib.legend.Legend at 0x79e611bf9ef0>"
      ]
     },
     "metadata": {},
     "execution_count": 124
    },
    {
     "output_type": "display_data",
     "data": {
      "image/png": "[encoded data removed]",
      "text/plain": [
       "<Figure size 1800x360 with 1 Axes>"
      ]
     },
     "metadata": {
      "needs_background": "light"
     }
    }
   ],
   "metadata": {}
  },
  {
   "cell_type": "code",
   "execution_count": 128,
   "source": [
    "BBox"
   ],
   "outputs": [
    {
     "output_type": "execute_result",
     "data": {
      "text/plain": [
       "(-157.82287715716188, 55.148808200000005, 18.42368055, 47.6038321)"
      ]
     },
     "metadata": {},
     "execution_count": 128
    }
   ],
   "metadata": {}
  },
  {
   "cell_type": "code",
   "execution_count": 160,
   "source": [
    "ruh_m = plt.imread('map.png')"
   ],
   "outputs": [],
   "metadata": {}
  },
  {
   "cell_type": "code",
   "execution_count": 158,
   "source": [
    "latsize=abs((BBox[0] -BBox[1]))\n",
    "lonsize=abs((BBox[2]-BBox[3]))\n",
    "print(lonsize, latsize)"
   ],
   "outputs": [
    {
     "output_type": "stream",
     "name": "stdout",
     "text": [
      "29.180151549999998 212.9716853571619\n"
     ]
    }
   ],
   "metadata": {}
  },
  {
   "cell_type": "code",
   "execution_count": 161,
   "source": [
    "fig, ax = plt.subplots(figsize = (lonsize,latsize))\n",
    "ax.scatter(geo_df.Longitude, geo_df.Latitude, zorder=1, alpha= 0.2, c='b', s=10)\n",
    "ax.set_title('Plotting Spatial Data on US Map')\n",
    "ax.set_xlim(BBox[0],BBox[1])\n",
    "ax.set_ylim(BBox[2],BBox[3])\n",
    "ax.imshow(ruh_m, zorder=0, extent = BBox, aspect= 'equal')"
   ],
   "outputs": [
    {
     "output_type": "execute_result",
     "data": {
      "text/plain": [
       "<matplotlib.image.AxesImage at 0x7ba0c0fe7a58>"
      ]
     },
     "metadata": {},
     "execution_count": 161
    },
    {
     "output_type": "display_data",
     "data": {
      "image/png": "[encoded data removed]",
      "text/plain": [
       "<Figure size 2100.97x15334 with 1 Axes>"
      ]
     },
     "metadata": {
      "needs_background": "light"
     }
    }
   ],
   "metadata": {}
  },
  {
   "cell_type": "code",
   "execution_count": null,
   "source": [],
   "outputs": [],
   "metadata": {}
  }
 ]
}