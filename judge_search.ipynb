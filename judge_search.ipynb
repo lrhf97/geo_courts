{
 "cells": [
  {
   "cell_type": "code",
   "execution_count": 57,
   "source": [
    "#https://www.ratemyimmigrationjudge.com/listing/hon-john-w-cortes-immigration-judge-new-york-varick-immigration-court/\n",
    "\n",
    "#https://www.ratemyimmigrationjudge.com/job-listings/?search_keywords=&search_location=&search_radius=50&search_lat=0&search_lng=0"
   ],
   "outputs": [],
   "metadata": {}
  },
  {
   "cell_type": "code",
   "execution_count": 58,
   "source": [
    "import csv\n",
    "import pandas as pd\n",
    "import googlemaps\n",
    "import requests \n",
    "import urllib.request\n",
    "import time\n",
    "from bs4 import BeautifulSoup\n",
    "import pickle"
   ],
   "outputs": [],
   "metadata": {}
  },
  {
   "cell_type": "code",
   "execution_count": 59,
   "source": [
    "df2 = pickle.load(open('imm_judges.p','rb'))\n",
    "df2.head()"
   ],
   "outputs": [
    {
     "output_type": "execute_result",
     "data": {
      "text/html": [
       "<div>\n",
       "<style scoped>\n",
       "    .dataframe tbody tr th:only-of-type {\n",
       "        vertical-align: middle;\n",
       "    }\n",
       "\n",
       "    .dataframe tbody tr th {\n",
       "        vertical-align: top;\n",
       "    }\n",
       "\n",
       "    .dataframe thead th {\n",
       "        text-align: right;\n",
       "    }\n",
       "</style>\n",
       "<table border=\"1\" class=\"dataframe\">\n",
       "  <thead>\n",
       "    <tr style=\"text-align: right;\">\n",
       "      <th></th>\n",
       "      <th>Court</th>\n",
       "      <th>Address</th>\n",
       "      <th>Judges</th>\n",
       "      <th>Ct Admin</th>\n",
       "      <th>Street</th>\n",
       "      <th>CityZip</th>\n",
       "      <th>Phone</th>\n",
       "      <th>cz_fix</th>\n",
       "      <th>Latitude</th>\n",
       "      <th>Longitude</th>\n",
       "      <th>geometry</th>\n",
       "    </tr>\n",
       "  </thead>\n",
       "  <tbody>\n",
       "    <tr>\n",
       "      <th>0</th>\n",
       "      <td>Eloy</td>\n",
       "      <td>1705 E. Hanna Road, Suite 366\\n   Eloy, AZ 851...</td>\n",
       "      <td>[Cortes, John W., Gaz, Jennifer I., Habich, Pa...</td>\n",
       "      <td>Padilla, Victoria</td>\n",
       "      <td>1705 E. Hanna Road, Suite 366</td>\n",
       "      <td>Eloy, AZ 85131</td>\n",
       "      <td>520-466-3671</td>\n",
       "      <td>[Eloy,, AZ, 85131]</td>\n",
       "      <td>32.755170</td>\n",
       "      <td>-111.553493</td>\n",
       "      <td>POINT (-111.55349 32.75517)</td>\n",
       "    </tr>\n",
       "    <tr>\n",
       "      <th>1</th>\n",
       "      <td>Florence</td>\n",
       "      <td>3260 N. Pinal Parkway Avenue\\n   Florence, AZ ...</td>\n",
       "      <td>[Guerrero, Marni, Taylor, Bruce A.]</td>\n",
       "      <td>Toliusis, Rachel</td>\n",
       "      <td>3260 N. Pinal Parkway Avenue</td>\n",
       "      <td>Florence, AZ 85132</td>\n",
       "      <td>520-868-3341</td>\n",
       "      <td>[Florence,, AZ, 85132]</td>\n",
       "      <td>33.031451</td>\n",
       "      <td>-111.387343</td>\n",
       "      <td>POINT (-111.38734 33.03145)</td>\n",
       "    </tr>\n",
       "    <tr>\n",
       "      <th>2</th>\n",
       "      <td>Phoenix</td>\n",
       "      <td>250 N. Seventh Ave., Suite 300\\n   Phoenix, AZ...</td>\n",
       "      <td>[Bartlemay Sr., Robert C., Cottor, Elizabeth A...</td>\n",
       "      <td>Riebs, Sathya</td>\n",
       "      <td>250 N. Seventh Ave., Suite 300</td>\n",
       "      <td>Phoenix, AZ 85007</td>\n",
       "      <td>602-640-2747</td>\n",
       "      <td>[Phoenix,, AZ, 85007]</td>\n",
       "      <td>33.448437</td>\n",
       "      <td>-112.074142</td>\n",
       "      <td>POINT (-112.07414 33.44844)</td>\n",
       "    </tr>\n",
       "    <tr>\n",
       "      <th>3</th>\n",
       "      <td>Tucson</td>\n",
       "      <td>300 West Congress, Suite 300\\n   Tucson, AZ 85...</td>\n",
       "      <td>[Davis, John W., DeAngelis, Kathryn L., Keenan...</td>\n",
       "      <td>Graff, Corey</td>\n",
       "      <td>300 West Congress, Suite 300</td>\n",
       "      <td>Tucson, AZ 85701</td>\n",
       "      <td>520-670-5212</td>\n",
       "      <td>[Tucson,, AZ, 85701]</td>\n",
       "      <td>32.222876</td>\n",
       "      <td>-110.974848</td>\n",
       "      <td>POINT (-110.97485 32.22288)</td>\n",
       "    </tr>\n",
       "    <tr>\n",
       "      <th>4</th>\n",
       "      <td>Adelanto</td>\n",
       "      <td>Adelanto Detention Facility\\n   10250 Rancho R...</td>\n",
       "      <td>[DePowell, Bryan E., Halperin, Ravit R., Marcu...</td>\n",
       "      <td>Roberts, Valerie (Acting)</td>\n",
       "      <td>10250 Rancho Road, Ste. 201A</td>\n",
       "      <td>Adelanto, CA 92301</td>\n",
       "      <td>760-561-6500</td>\n",
       "      <td>[Adelanto,, CA, 92301]</td>\n",
       "      <td>34.582770</td>\n",
       "      <td>-117.409215</td>\n",
       "      <td>POINT (-117.40922 34.58277)</td>\n",
       "    </tr>\n",
       "  </tbody>\n",
       "</table>\n",
       "</div>"
      ],
      "text/plain": [
       "      Court                                            Address  \\\n",
       "0      Eloy  1705 E. Hanna Road, Suite 366\\n   Eloy, AZ 851...   \n",
       "1  Florence  3260 N. Pinal Parkway Avenue\\n   Florence, AZ ...   \n",
       "2   Phoenix  250 N. Seventh Ave., Suite 300\\n   Phoenix, AZ...   \n",
       "3    Tucson  300 West Congress, Suite 300\\n   Tucson, AZ 85...   \n",
       "4  Adelanto  Adelanto Detention Facility\\n   10250 Rancho R...   \n",
       "\n",
       "                                              Judges  \\\n",
       "0  [Cortes, John W., Gaz, Jennifer I., Habich, Pa...   \n",
       "1                [Guerrero, Marni, Taylor, Bruce A.]   \n",
       "2  [Bartlemay Sr., Robert C., Cottor, Elizabeth A...   \n",
       "3  [Davis, John W., DeAngelis, Kathryn L., Keenan...   \n",
       "4  [DePowell, Bryan E., Halperin, Ravit R., Marcu...   \n",
       "\n",
       "                    Ct Admin                           Street  \\\n",
       "0          Padilla, Victoria    1705 E. Hanna Road, Suite 366   \n",
       "1           Toliusis, Rachel     3260 N. Pinal Parkway Avenue   \n",
       "2              Riebs, Sathya   250 N. Seventh Ave., Suite 300   \n",
       "3               Graff, Corey     300 West Congress, Suite 300   \n",
       "4  Roberts, Valerie (Acting)     10250 Rancho Road, Ste. 201A   \n",
       "\n",
       "                 CityZip            Phone                  cz_fix   Latitude  \\\n",
       "0         Eloy, AZ 85131     520-466-3671      [Eloy,, AZ, 85131]  32.755170   \n",
       "1     Florence, AZ 85132     520-868-3341  [Florence,, AZ, 85132]  33.031451   \n",
       "2      Phoenix, AZ 85007     602-640-2747   [Phoenix,, AZ, 85007]  33.448437   \n",
       "3       Tucson, AZ 85701     520-670-5212    [Tucson,, AZ, 85701]  32.222876   \n",
       "4     Adelanto, CA 92301     760-561-6500  [Adelanto,, CA, 92301]  34.582770   \n",
       "\n",
       "    Longitude                     geometry  \n",
       "0 -111.553493  POINT (-111.55349 32.75517)  \n",
       "1 -111.387343  POINT (-111.38734 33.03145)  \n",
       "2 -112.074142  POINT (-112.07414 33.44844)  \n",
       "3 -110.974848  POINT (-110.97485 32.22288)  \n",
       "4 -117.409215  POINT (-117.40922 34.58277)  "
      ]
     },
     "metadata": {},
     "execution_count": 59
    }
   ],
   "metadata": {}
  },
  {
   "cell_type": "markdown",
   "source": [
    "# tester"
   ],
   "metadata": {}
  },
  {
   "cell_type": "code",
   "execution_count": 60,
   "source": [
    "url = 'https://www.ratemyimmigrationjudge.com/listing/hon-john-w-cortes-immigration-judge-new-york-varick-immigration-court/'\n",
    "response = requests.get(url)\n",
    "response"
   ],
   "outputs": [
    {
     "output_type": "execute_result",
     "data": {
      "text/plain": [
       "<Response [200]>"
      ]
     },
     "metadata": {},
     "execution_count": 60
    }
   ],
   "metadata": {}
  },
  {
   "cell_type": "code",
   "execution_count": 61,
   "source": [
    "soup = BeautifulSoup(response.text,'html.parser')"
   ],
   "outputs": [],
   "metadata": {}
  },
  {
   "cell_type": "code",
   "execution_count": 62,
   "source": [
    "bio_test = soup.findAll('p')\n",
    "\n",
    "bio_test[0:1]"
   ],
   "outputs": [
    {
     "output_type": "execute_result",
     "data": {
      "text/plain": [
       "[<p>Then-Acting Attorney General Matthew Whitaker appointed John W. Cortes to begin hearingcases in March 2019. Judge Cortes earned a Bachelor of Arts in 1999 from the City University ofNew York at Brooklyn College and a Juris Doctor in 2002 at the New York Law School. From2003 to 2018, he served as an assistant district attorney for the Suffolk County DistrictAttorneyâ€™s Office, and from 2013 to 2018, he served as a principal assistant district attorney forthe same court. Judge Cortes is a member of the State Bar of Arizona and New York State Bar.</p>]"
      ]
     },
     "metadata": {},
     "execution_count": 62
    }
   ],
   "metadata": {}
  },
  {
   "cell_type": "code",
   "execution_count": null,
   "source": [],
   "outputs": [],
   "metadata": {}
  },
  {
   "cell_type": "markdown",
   "source": [
    "# Get Court pages"
   ],
   "metadata": {}
  },
  {
   "cell_type": "code",
   "execution_count": 63,
   "source": [
    "# https://www.ratemyimmigrationjudge.com/job-listings/?search_keywords=&search_location=eloy&search_radius=50&search_lat=0&search_lng=0\n",
    "\n",
    "court_pages = []\n",
    "for court in df2['Court']:\n",
    "    url = 'https://www.ratemyimmigrationjudge.com/job-listings/?search_keywords=&search_location={}&search_radius=50&search_lat=0&search_lng=0'.format(court)\n",
    "    court_pages.append(url)\n",
    "court_pages[0:5]"
   ],
   "outputs": [
    {
     "output_type": "execute_result",
     "data": {
      "text/plain": [
       "['https://www.ratemyimmigrationjudge.com/job-listings/?search_keywords=&search_location=Eloy&search_radius=50&search_lat=0&search_lng=0',\n",
       " 'https://www.ratemyimmigrationjudge.com/job-listings/?search_keywords=&search_location=Florence&search_radius=50&search_lat=0&search_lng=0',\n",
       " 'https://www.ratemyimmigrationjudge.com/job-listings/?search_keywords=&search_location=Phoenix&search_radius=50&search_lat=0&search_lng=0',\n",
       " 'https://www.ratemyimmigrationjudge.com/job-listings/?search_keywords=&search_location=Tucson&search_radius=50&search_lat=0&search_lng=0',\n",
       " 'https://www.ratemyimmigrationjudge.com/job-listings/?search_keywords=&search_location=Adelanto&search_radius=50&search_lat=0&search_lng=0']"
      ]
     },
     "metadata": {},
     "execution_count": 63
    }
   ],
   "metadata": {}
  },
  {
   "cell_type": "code",
   "execution_count": 64,
   "source": [
    "\n",
    "url = court_pages[0]\n",
    "response = requests.get(url)\n",
    "response\n",
    "soup = BeautifulSoup(response.text,'html.parser')\n"
   ],
   "outputs": [],
   "metadata": {}
  },
  {
   "cell_type": "markdown",
   "source": [
    "# now judges by page"
   ],
   "metadata": {}
  },
  {
   "cell_type": "code",
   "execution_count": 65,
   "source": [
    "df2['Judges'].head()"
   ],
   "outputs": [
    {
     "output_type": "execute_result",
     "data": {
      "text/plain": [
       "0    [Cortes, John W., Gaz, Jennifer I., Habich, Pa...\n",
       "1                  [Guerrero, Marni, Taylor, Bruce A.]\n",
       "2    [Bartlemay Sr., Robert C., Cottor, Elizabeth A...\n",
       "3    [Davis, John W., DeAngelis, Kathryn L., Keenan...\n",
       "4    [DePowell, Bryan E., Halperin, Ravit R., Marcu...\n",
       "Name: Judges, dtype: object"
      ]
     },
     "metadata": {},
     "execution_count": 65
    }
   ],
   "metadata": {}
  },
  {
   "cell_type": "code",
   "execution_count": 66,
   "source": [
    "judge_list =[]\n",
    "\n",
    "for judge in df2['Judges'][0]:\n",
    "    judge_list.append(judge)\n",
    "judge_list[0:20]"
   ],
   "outputs": [
    {
     "output_type": "execute_result",
     "data": {
      "text/plain": [
       "['Cortes, John W.',\n",
       " 'Gaz, Jennifer I.',\n",
       " 'Habich, Paul',\n",
       " 'Penalosa Jr., Jose L.']"
      ]
     },
     "metadata": {},
     "execution_count": 66
    }
   ],
   "metadata": {}
  },
  {
   "cell_type": "code",
   "execution_count": 67,
   "source": [
    "sample = df2['Judges'][0][3]\n",
    "\n",
    "def judge_addy_part(judge):\n",
    "    j_split = judge.split()\n",
    "    res = [j.strip('.,') for j in j_split]\n",
    "    name_num = len(res)\n",
    "    # judge_hyphen =j_split\n",
    "    if name_num == 1:\n",
    "        judge_hyphen = res\n",
    "    elif name_num == 2:\n",
    "        judge_hyphen = res[1]+'-'+res[0]\n",
    "    elif name_num == 3:\n",
    "        judge_hyphen = res[1]+'-'+res[2]+'-'+res[0]\n",
    "    else:\n",
    "        judge_hyphen = res[2]+'-'+res[3]+'-'+res[0]+'-'+res[1]\n",
    "    return judge_hyphen\n",
    "\n",
    "judge_addy_part(df2['Judges'][0][3])\n"
   ],
   "outputs": [
    {
     "output_type": "execute_result",
     "data": {
      "text/plain": [
       "'Jose-L-Penalosa-Jr'"
      ]
     },
     "metadata": {},
     "execution_count": 67
    }
   ],
   "metadata": {}
  },
  {
   "cell_type": "code",
   "execution_count": 68,
   "source": [
    "sample = df2['Judges'][0][3]\n",
    "\n",
    "def judge_addy_list(list):\n",
    "    j_list=[]\n",
    "    for judge in list:\n",
    "        j_split = judge.split()\n",
    "        res = [j.strip('.,') for j in j_split]\n",
    "        name_num = len(res)\n",
    "        # judge_hyphen =j_split\n",
    "        if name_num == 1:\n",
    "            judge_hyphen = res\n",
    "        elif name_num == 2:\n",
    "            judge_hyphen = res[1]+'-'+res[0]\n",
    "        elif name_num == 3:\n",
    "            judge_hyphen = res[1]+'-'+res[2]+'-'+res[0]\n",
    "        else:\n",
    "            judge_hyphen = res[2]+'-'+res[3]+'-'+res[0]+'-'+res[1]\n",
    "        j_list.append(judge_hyphen)\n",
    "    return j_list\n",
    "\n",
    "judge_addy_list(df2['Judges'][0])"
   ],
   "outputs": [
    {
     "output_type": "execute_result",
     "data": {
      "text/plain": [
       "['John-W-Cortes', 'Jennifer-I-Gaz', 'Paul-Habich', 'Jose-L-Penalosa-Jr']"
      ]
     },
     "metadata": {},
     "execution_count": 68
    }
   ],
   "metadata": {}
  },
  {
   "cell_type": "code",
   "execution_count": 69,
   "source": [
    "judge_list_HY =[]\n",
    "#https://www.ratemyimmigrationjudge.com/listing/hon-john-w-cortes-immigration-judge-new-york-varick-immigration-court/\n",
    "\n",
    "for judge in df2['Judges'][0]:\n",
    "    judge_list_HY.append(judge_addy_part(judge))\n",
    "judge_list_HY\n",
    "    \n",
    "    "
   ],
   "outputs": [
    {
     "output_type": "execute_result",
     "data": {
      "text/plain": [
       "['John-W-Cortes', 'Jennifer-I-Gaz', 'Paul-Habich', 'Jose-L-Penalosa-Jr']"
      ]
     },
     "metadata": {},
     "execution_count": 69
    }
   ],
   "metadata": {}
  },
  {
   "cell_type": "code",
   "execution_count": 70,
   "source": [
    "judge_addy_list(df2['Judges'][2])"
   ],
   "outputs": [
    {
     "output_type": "execute_result",
     "data": {
      "text/plain": [
       "['Robert-C-Bartlemay-Sr',\n",
       " 'Elizabeth-A-Cottor',\n",
       " 'LaMonte-S-Freerks',\n",
       " 'Joseph-S-Imburgia',\n",
       " 'Ken-Josephson',\n",
       " 'Melissa-B-Karlen',\n",
       " 'Munish-Sharda',\n",
       " 'Linda-Spencer-Walters']"
      ]
     },
     "metadata": {},
     "execution_count": 70
    }
   ],
   "metadata": {}
  },
  {
   "cell_type": "code",
   "execution_count": 71,
   "source": [
    "df2[45:52]"
   ],
   "outputs": [
    {
     "output_type": "execute_result",
     "data": {
      "text/html": [
       "<div>\n",
       "<style scoped>\n",
       "    .dataframe tbody tr th:only-of-type {\n",
       "        vertical-align: middle;\n",
       "    }\n",
       "\n",
       "    .dataframe tbody tr th {\n",
       "        vertical-align: top;\n",
       "    }\n",
       "\n",
       "    .dataframe thead th {\n",
       "        text-align: right;\n",
       "    }\n",
       "</style>\n",
       "<table border=\"1\" class=\"dataframe\">\n",
       "  <thead>\n",
       "    <tr style=\"text-align: right;\">\n",
       "      <th></th>\n",
       "      <th>Court</th>\n",
       "      <th>Address</th>\n",
       "      <th>Judges</th>\n",
       "      <th>Ct Admin</th>\n",
       "      <th>Street</th>\n",
       "      <th>CityZip</th>\n",
       "      <th>Phone</th>\n",
       "      <th>cz_fix</th>\n",
       "      <th>Latitude</th>\n",
       "      <th>Longitude</th>\n",
       "      <th>geometry</th>\n",
       "    </tr>\n",
       "  </thead>\n",
       "  <tbody>\n",
       "    <tr>\n",
       "      <th>45</th>\n",
       "      <td>Saipan</td>\n",
       "      <td>Marina Heights II Building\\n   Suite 301\\n   M...</td>\n",
       "      <td>[Clemente, Jesus, Wagner, Clarence]</td>\n",
       "      <td>Viray, Glenda (Acting)</td>\n",
       "      <td>Suite 301</td>\n",
       "      <td>Marina Heights Business Park</td>\n",
       "      <td>Saipan, MP 96950</td>\n",
       "      <td>[Marina, Heights, Business, Park]</td>\n",
       "      <td>25.090520</td>\n",
       "      <td>55.148808</td>\n",
       "      <td>POINT (55.14881 25.09052)</td>\n",
       "    </tr>\n",
       "    <tr>\n",
       "      <th>46</th>\n",
       "      <td>Cleveland</td>\n",
       "      <td>801 W. Superior Avenue\\n   Suite 13 - 100\\n   ...</td>\n",
       "      <td>[Horton, Monte J., Imbacuan, Bruce D., Owens, ...</td>\n",
       "      <td>Roder, James W.</td>\n",
       "      <td>801 W. Superior Avenue</td>\n",
       "      <td>Cleveland, OH 44113</td>\n",
       "      <td>216-802-1100</td>\n",
       "      <td>[Cleveland,, OH, 44113]</td>\n",
       "      <td>41.505161</td>\n",
       "      <td>-81.693445</td>\n",
       "      <td>POINT (-81.69344 41.50516)</td>\n",
       "    </tr>\n",
       "    <tr>\n",
       "      <th>47</th>\n",
       "      <td>Portland</td>\n",
       "      <td>1220 SW 3rd Avenue, Suite 500\\n   Portland, OR...</td>\n",
       "      <td>[Hoeppner, Mindy E., Lemke, Kathy J., Zanfardi...</td>\n",
       "      <td>John, Michael</td>\n",
       "      <td>1220 SW 3rd Avenue, Suite 500</td>\n",
       "      <td>Portland, OR 97204</td>\n",
       "      <td>503-326-6341</td>\n",
       "      <td>[Portland,, OR, 97204]</td>\n",
       "      <td>45.520247</td>\n",
       "      <td>-122.674195</td>\n",
       "      <td>POINT (-122.67419 45.52025)</td>\n",
       "    </tr>\n",
       "    <tr>\n",
       "      <th>48</th>\n",
       "      <td>Philadelphia</td>\n",
       "      <td>Robert Nix Federal Bldg and Courthouse\\n   900...</td>\n",
       "      <td>[Carle, John B., Ehlers, Patrick J., Garcy, An...</td>\n",
       "      <td>Alicea, Alterra</td>\n",
       "      <td>900 Market Street, Suite 504</td>\n",
       "      <td>Philadelphia, PA 19107</td>\n",
       "      <td>215-656-7000</td>\n",
       "      <td>[Philadelphia,, PA, 19107]</td>\n",
       "      <td>39.952724</td>\n",
       "      <td>-75.163526</td>\n",
       "      <td>POINT (-75.16353 39.95272)</td>\n",
       "    </tr>\n",
       "    <tr>\n",
       "      <th>49</th>\n",
       "      <td>York</td>\n",
       "      <td>Closed July 30, 2021</td>\n",
       "      <td>[]</td>\n",
       "      <td></td>\n",
       "      <td>None</td>\n",
       "      <td>None</td>\n",
       "      <td>None</td>\n",
       "      <td>None</td>\n",
       "      <td>44.933143</td>\n",
       "      <td>7.540121</td>\n",
       "      <td>POINT (7.54012 44.93314)</td>\n",
       "    </tr>\n",
       "    <tr>\n",
       "      <th>50</th>\n",
       "      <td>Guaynabo\\n   (San Juan)</td>\n",
       "      <td>San Patricio Office Center\\n   #7 Tabonuco Str...</td>\n",
       "      <td>[Diaz-Rex, Julia, Espinal, Pedro J., Talavera-...</td>\n",
       "      <td>Quiles, Luis</td>\n",
       "      <td>#7 Tabonuco Street, Room 401</td>\n",
       "      <td>Guaynabo, PR 00968-4605</td>\n",
       "      <td>787-749-4386</td>\n",
       "      <td>[Guaynabo,, PR, 00968-4605]</td>\n",
       "      <td>18.423681</td>\n",
       "      <td>-66.111922</td>\n",
       "      <td>POINT (-66.11192 18.42368)</td>\n",
       "    </tr>\n",
       "    <tr>\n",
       "      <th>51</th>\n",
       "      <td>Memphis</td>\n",
       "      <td>Brinkley Plaza\\n   80 Monroe Ave, Suite 501\\n ...</td>\n",
       "      <td>[Holt, Rebecca L., Johnson, Kelly S., Maldonad...</td>\n",
       "      <td>Davis, J. Thomas</td>\n",
       "      <td>80 Monroe Ave, Suite 501</td>\n",
       "      <td>Memphis, TN 38103</td>\n",
       "      <td>901-528-5883</td>\n",
       "      <td>[Memphis,, TN, 38103]</td>\n",
       "      <td>35.149022</td>\n",
       "      <td>-90.051629</td>\n",
       "      <td>POINT (-90.05163 35.14902)</td>\n",
       "    </tr>\n",
       "  </tbody>\n",
       "</table>\n",
       "</div>"
      ],
      "text/plain": [
       "                      Court  \\\n",
       "45                   Saipan   \n",
       "46                Cleveland   \n",
       "47                 Portland   \n",
       "48             Philadelphia   \n",
       "49                     York   \n",
       "50  Guaynabo\\n   (San Juan)   \n",
       "51                  Memphis   \n",
       "\n",
       "                                              Address  \\\n",
       "45  Marina Heights II Building\\n   Suite 301\\n   M...   \n",
       "46  801 W. Superior Avenue\\n   Suite 13 - 100\\n   ...   \n",
       "47  1220 SW 3rd Avenue, Suite 500\\n   Portland, OR...   \n",
       "48  Robert Nix Federal Bldg and Courthouse\\n   900...   \n",
       "49                               Closed July 30, 2021   \n",
       "50  San Patricio Office Center\\n   #7 Tabonuco Str...   \n",
       "51  Brinkley Plaza\\n   80 Monroe Ave, Suite 501\\n ...   \n",
       "\n",
       "                                               Judges                Ct Admin  \\\n",
       "45                [Clemente, Jesus, Wagner, Clarence]  Viray, Glenda (Acting)   \n",
       "46  [Horton, Monte J., Imbacuan, Bruce D., Owens, ...         Roder, James W.   \n",
       "47  [Hoeppner, Mindy E., Lemke, Kathy J., Zanfardi...           John, Michael   \n",
       "48  [Carle, John B., Ehlers, Patrick J., Garcy, An...         Alicea, Alterra   \n",
       "49                                                 []                           \n",
       "50  [Diaz-Rex, Julia, Espinal, Pedro J., Talavera-...            Quiles, Luis   \n",
       "51  [Holt, Rebecca L., Johnson, Kelly S., Maldonad...        Davis, J. Thomas   \n",
       "\n",
       "                             Street                          CityZip  \\\n",
       "45                        Suite 301     Marina Heights Business Park   \n",
       "46           801 W. Superior Avenue              Cleveland, OH 44113   \n",
       "47    1220 SW 3rd Avenue, Suite 500               Portland, OR 97204   \n",
       "48     900 Market Street, Suite 504           Philadelphia, PA 19107   \n",
       "49                             None                             None   \n",
       "50     #7 Tabonuco Street, Room 401          Guaynabo, PR 00968-4605   \n",
       "51         80 Monroe Ave, Suite 501                Memphis, TN 38103   \n",
       "\n",
       "                  Phone                             cz_fix   Latitude  \\\n",
       "45     Saipan, MP 96950  [Marina, Heights, Business, Park]  25.090520   \n",
       "46         216-802-1100            [Cleveland,, OH, 44113]  41.505161   \n",
       "47         503-326-6341             [Portland,, OR, 97204]  45.520247   \n",
       "48         215-656-7000         [Philadelphia,, PA, 19107]  39.952724   \n",
       "49                 None                               None  44.933143   \n",
       "50         787-749-4386        [Guaynabo,, PR, 00968-4605]  18.423681   \n",
       "51         901-528-5883              [Memphis,, TN, 38103]  35.149022   \n",
       "\n",
       "     Longitude                     geometry  \n",
       "45   55.148808    POINT (55.14881 25.09052)  \n",
       "46  -81.693445   POINT (-81.69344 41.50516)  \n",
       "47 -122.674195  POINT (-122.67419 45.52025)  \n",
       "48  -75.163526   POINT (-75.16353 39.95272)  \n",
       "49    7.540121     POINT (7.54012 44.93314)  \n",
       "50  -66.111922   POINT (-66.11192 18.42368)  \n",
       "51  -90.051629   POINT (-90.05163 35.14902)  "
      ]
     },
     "metadata": {},
     "execution_count": 71
    }
   ],
   "metadata": {}
  },
  {
   "cell_type": "code",
   "execution_count": 72,
   "source": [
    "df2 = df2[df2.Court != 'York']\n",
    "df2 = df2.reset_index(drop=True)\n",
    "df2[45:52]"
   ],
   "outputs": [
    {
     "output_type": "execute_result",
     "data": {
      "text/html": [
       "<div>\n",
       "<style scoped>\n",
       "    .dataframe tbody tr th:only-of-type {\n",
       "        vertical-align: middle;\n",
       "    }\n",
       "\n",
       "    .dataframe tbody tr th {\n",
       "        vertical-align: top;\n",
       "    }\n",
       "\n",
       "    .dataframe thead th {\n",
       "        text-align: right;\n",
       "    }\n",
       "</style>\n",
       "<table border=\"1\" class=\"dataframe\">\n",
       "  <thead>\n",
       "    <tr style=\"text-align: right;\">\n",
       "      <th></th>\n",
       "      <th>Court</th>\n",
       "      <th>Address</th>\n",
       "      <th>Judges</th>\n",
       "      <th>Ct Admin</th>\n",
       "      <th>Street</th>\n",
       "      <th>CityZip</th>\n",
       "      <th>Phone</th>\n",
       "      <th>cz_fix</th>\n",
       "      <th>Latitude</th>\n",
       "      <th>Longitude</th>\n",
       "      <th>geometry</th>\n",
       "    </tr>\n",
       "  </thead>\n",
       "  <tbody>\n",
       "    <tr>\n",
       "      <th>45</th>\n",
       "      <td>Saipan</td>\n",
       "      <td>Marina Heights II Building\\n   Suite 301\\n   M...</td>\n",
       "      <td>[Clemente, Jesus, Wagner, Clarence]</td>\n",
       "      <td>Viray, Glenda (Acting)</td>\n",
       "      <td>Suite 301</td>\n",
       "      <td>Marina Heights Business Park</td>\n",
       "      <td>Saipan, MP 96950</td>\n",
       "      <td>[Marina, Heights, Business, Park]</td>\n",
       "      <td>25.090520</td>\n",
       "      <td>55.148808</td>\n",
       "      <td>POINT (55.14881 25.09052)</td>\n",
       "    </tr>\n",
       "    <tr>\n",
       "      <th>46</th>\n",
       "      <td>Cleveland</td>\n",
       "      <td>801 W. Superior Avenue\\n   Suite 13 - 100\\n   ...</td>\n",
       "      <td>[Horton, Monte J., Imbacuan, Bruce D., Owens, ...</td>\n",
       "      <td>Roder, James W.</td>\n",
       "      <td>801 W. Superior Avenue</td>\n",
       "      <td>Cleveland, OH 44113</td>\n",
       "      <td>216-802-1100</td>\n",
       "      <td>[Cleveland,, OH, 44113]</td>\n",
       "      <td>41.505161</td>\n",
       "      <td>-81.693445</td>\n",
       "      <td>POINT (-81.69344 41.50516)</td>\n",
       "    </tr>\n",
       "    <tr>\n",
       "      <th>47</th>\n",
       "      <td>Portland</td>\n",
       "      <td>1220 SW 3rd Avenue, Suite 500\\n   Portland, OR...</td>\n",
       "      <td>[Hoeppner, Mindy E., Lemke, Kathy J., Zanfardi...</td>\n",
       "      <td>John, Michael</td>\n",
       "      <td>1220 SW 3rd Avenue, Suite 500</td>\n",
       "      <td>Portland, OR 97204</td>\n",
       "      <td>503-326-6341</td>\n",
       "      <td>[Portland,, OR, 97204]</td>\n",
       "      <td>45.520247</td>\n",
       "      <td>-122.674195</td>\n",
       "      <td>POINT (-122.67419 45.52025)</td>\n",
       "    </tr>\n",
       "    <tr>\n",
       "      <th>48</th>\n",
       "      <td>Philadelphia</td>\n",
       "      <td>Robert Nix Federal Bldg and Courthouse\\n   900...</td>\n",
       "      <td>[Carle, John B., Ehlers, Patrick J., Garcy, An...</td>\n",
       "      <td>Alicea, Alterra</td>\n",
       "      <td>900 Market Street, Suite 504</td>\n",
       "      <td>Philadelphia, PA 19107</td>\n",
       "      <td>215-656-7000</td>\n",
       "      <td>[Philadelphia,, PA, 19107]</td>\n",
       "      <td>39.952724</td>\n",
       "      <td>-75.163526</td>\n",
       "      <td>POINT (-75.16353 39.95272)</td>\n",
       "    </tr>\n",
       "    <tr>\n",
       "      <th>49</th>\n",
       "      <td>Guaynabo\\n   (San Juan)</td>\n",
       "      <td>San Patricio Office Center\\n   #7 Tabonuco Str...</td>\n",
       "      <td>[Diaz-Rex, Julia, Espinal, Pedro J., Talavera-...</td>\n",
       "      <td>Quiles, Luis</td>\n",
       "      <td>#7 Tabonuco Street, Room 401</td>\n",
       "      <td>Guaynabo, PR 00968-4605</td>\n",
       "      <td>787-749-4386</td>\n",
       "      <td>[Guaynabo,, PR, 00968-4605]</td>\n",
       "      <td>18.423681</td>\n",
       "      <td>-66.111922</td>\n",
       "      <td>POINT (-66.11192 18.42368)</td>\n",
       "    </tr>\n",
       "    <tr>\n",
       "      <th>50</th>\n",
       "      <td>Memphis</td>\n",
       "      <td>Brinkley Plaza\\n   80 Monroe Ave, Suite 501\\n ...</td>\n",
       "      <td>[Holt, Rebecca L., Johnson, Kelly S., Maldonad...</td>\n",
       "      <td>Davis, J. Thomas</td>\n",
       "      <td>80 Monroe Ave, Suite 501</td>\n",
       "      <td>Memphis, TN 38103</td>\n",
       "      <td>901-528-5883</td>\n",
       "      <td>[Memphis,, TN, 38103]</td>\n",
       "      <td>35.149022</td>\n",
       "      <td>-90.051629</td>\n",
       "      <td>POINT (-90.05163 35.14902)</td>\n",
       "    </tr>\n",
       "    <tr>\n",
       "      <th>51</th>\n",
       "      <td>Conroe</td>\n",
       "      <td>806 Hilbig Road\\n   Conroe, TX 77301\\n   936-5...</td>\n",
       "      <td>[Brisack,Chris A., D'Andrea, Holly A., Evans, ...</td>\n",
       "      <td>Russelburg, Mark</td>\n",
       "      <td>806 Hilbig Road</td>\n",
       "      <td>Conroe, TX 77301</td>\n",
       "      <td>936-520-5400</td>\n",
       "      <td>[Conroe,, TX, 77301]</td>\n",
       "      <td>30.311877</td>\n",
       "      <td>-95.456051</td>\n",
       "      <td>POINT (-95.45605 30.31188)</td>\n",
       "    </tr>\n",
       "  </tbody>\n",
       "</table>\n",
       "</div>"
      ],
      "text/plain": [
       "                      Court  \\\n",
       "45                   Saipan   \n",
       "46                Cleveland   \n",
       "47                 Portland   \n",
       "48             Philadelphia   \n",
       "49  Guaynabo\\n   (San Juan)   \n",
       "50                  Memphis   \n",
       "51                   Conroe   \n",
       "\n",
       "                                              Address  \\\n",
       "45  Marina Heights II Building\\n   Suite 301\\n   M...   \n",
       "46  801 W. Superior Avenue\\n   Suite 13 - 100\\n   ...   \n",
       "47  1220 SW 3rd Avenue, Suite 500\\n   Portland, OR...   \n",
       "48  Robert Nix Federal Bldg and Courthouse\\n   900...   \n",
       "49  San Patricio Office Center\\n   #7 Tabonuco Str...   \n",
       "50  Brinkley Plaza\\n   80 Monroe Ave, Suite 501\\n ...   \n",
       "51  806 Hilbig Road\\n   Conroe, TX 77301\\n   936-5...   \n",
       "\n",
       "                                               Judges                Ct Admin  \\\n",
       "45                [Clemente, Jesus, Wagner, Clarence]  Viray, Glenda (Acting)   \n",
       "46  [Horton, Monte J., Imbacuan, Bruce D., Owens, ...         Roder, James W.   \n",
       "47  [Hoeppner, Mindy E., Lemke, Kathy J., Zanfardi...           John, Michael   \n",
       "48  [Carle, John B., Ehlers, Patrick J., Garcy, An...         Alicea, Alterra   \n",
       "49  [Diaz-Rex, Julia, Espinal, Pedro J., Talavera-...            Quiles, Luis   \n",
       "50  [Holt, Rebecca L., Johnson, Kelly S., Maldonad...        Davis, J. Thomas   \n",
       "51  [Brisack,Chris A., D'Andrea, Holly A., Evans, ...        Russelburg, Mark   \n",
       "\n",
       "                             Street                          CityZip  \\\n",
       "45                        Suite 301     Marina Heights Business Park   \n",
       "46           801 W. Superior Avenue              Cleveland, OH 44113   \n",
       "47    1220 SW 3rd Avenue, Suite 500               Portland, OR 97204   \n",
       "48     900 Market Street, Suite 504           Philadelphia, PA 19107   \n",
       "49     #7 Tabonuco Street, Room 401          Guaynabo, PR 00968-4605   \n",
       "50         80 Monroe Ave, Suite 501                Memphis, TN 38103   \n",
       "51                  806 Hilbig Road                 Conroe, TX 77301   \n",
       "\n",
       "                  Phone                             cz_fix   Latitude  \\\n",
       "45     Saipan, MP 96950  [Marina, Heights, Business, Park]  25.090520   \n",
       "46         216-802-1100            [Cleveland,, OH, 44113]  41.505161   \n",
       "47         503-326-6341             [Portland,, OR, 97204]  45.520247   \n",
       "48         215-656-7000         [Philadelphia,, PA, 19107]  39.952724   \n",
       "49         787-749-4386        [Guaynabo,, PR, 00968-4605]  18.423681   \n",
       "50         901-528-5883              [Memphis,, TN, 38103]  35.149022   \n",
       "51         936-520-5400               [Conroe,, TX, 77301]  30.311877   \n",
       "\n",
       "     Longitude                     geometry  \n",
       "45   55.148808    POINT (55.14881 25.09052)  \n",
       "46  -81.693445   POINT (-81.69344 41.50516)  \n",
       "47 -122.674195  POINT (-122.67419 45.52025)  \n",
       "48  -75.163526   POINT (-75.16353 39.95272)  \n",
       "49  -66.111922   POINT (-66.11192 18.42368)  \n",
       "50  -90.051629   POINT (-90.05163 35.14902)  \n",
       "51  -95.456051   POINT (-95.45605 30.31188)  "
      ]
     },
     "metadata": {},
     "execution_count": 72
    }
   ],
   "metadata": {}
  },
  {
   "cell_type": "code",
   "execution_count": 73,
   "source": [
    "# df2['Judges_Hy'] = [df2['Judges'].apply(lambda x : [judge_addy_list(x) for x in df2['Judges']])]\n",
    "Judges_Hy = []\n",
    "count=0\n",
    "for judges in df2['Judges']:\n",
    "    Judges_Hy.append(judge_addy_list(judges))\n",
    "df2['Judges_Hy'] = pd.Series(Judges_Hy)\n",
    "df2.head()"
   ],
   "outputs": [
    {
     "output_type": "execute_result",
     "data": {
      "text/html": [
       "<div>\n",
       "<style scoped>\n",
       "    .dataframe tbody tr th:only-of-type {\n",
       "        vertical-align: middle;\n",
       "    }\n",
       "\n",
       "    .dataframe tbody tr th {\n",
       "        vertical-align: top;\n",
       "    }\n",
       "\n",
       "    .dataframe thead th {\n",
       "        text-align: right;\n",
       "    }\n",
       "</style>\n",
       "<table border=\"1\" class=\"dataframe\">\n",
       "  <thead>\n",
       "    <tr style=\"text-align: right;\">\n",
       "      <th></th>\n",
       "      <th>Court</th>\n",
       "      <th>Address</th>\n",
       "      <th>Judges</th>\n",
       "      <th>Ct Admin</th>\n",
       "      <th>Street</th>\n",
       "      <th>CityZip</th>\n",
       "      <th>Phone</th>\n",
       "      <th>cz_fix</th>\n",
       "      <th>Latitude</th>\n",
       "      <th>Longitude</th>\n",
       "      <th>geometry</th>\n",
       "      <th>Judges_Hy</th>\n",
       "    </tr>\n",
       "  </thead>\n",
       "  <tbody>\n",
       "    <tr>\n",
       "      <th>0</th>\n",
       "      <td>Eloy</td>\n",
       "      <td>1705 E. Hanna Road, Suite 366\\n   Eloy, AZ 851...</td>\n",
       "      <td>[Cortes, John W., Gaz, Jennifer I., Habich, Pa...</td>\n",
       "      <td>Padilla, Victoria</td>\n",
       "      <td>1705 E. Hanna Road, Suite 366</td>\n",
       "      <td>Eloy, AZ 85131</td>\n",
       "      <td>520-466-3671</td>\n",
       "      <td>[Eloy,, AZ, 85131]</td>\n",
       "      <td>32.755170</td>\n",
       "      <td>-111.553493</td>\n",
       "      <td>POINT (-111.55349 32.75517)</td>\n",
       "      <td>[John-W-Cortes, Jennifer-I-Gaz, Paul-Habich, J...</td>\n",
       "    </tr>\n",
       "    <tr>\n",
       "      <th>1</th>\n",
       "      <td>Florence</td>\n",
       "      <td>3260 N. Pinal Parkway Avenue\\n   Florence, AZ ...</td>\n",
       "      <td>[Guerrero, Marni, Taylor, Bruce A.]</td>\n",
       "      <td>Toliusis, Rachel</td>\n",
       "      <td>3260 N. Pinal Parkway Avenue</td>\n",
       "      <td>Florence, AZ 85132</td>\n",
       "      <td>520-868-3341</td>\n",
       "      <td>[Florence,, AZ, 85132]</td>\n",
       "      <td>33.031451</td>\n",
       "      <td>-111.387343</td>\n",
       "      <td>POINT (-111.38734 33.03145)</td>\n",
       "      <td>[Marni-Guerrero, Bruce-A-Taylor]</td>\n",
       "    </tr>\n",
       "    <tr>\n",
       "      <th>2</th>\n",
       "      <td>Phoenix</td>\n",
       "      <td>250 N. Seventh Ave., Suite 300\\n   Phoenix, AZ...</td>\n",
       "      <td>[Bartlemay Sr., Robert C., Cottor, Elizabeth A...</td>\n",
       "      <td>Riebs, Sathya</td>\n",
       "      <td>250 N. Seventh Ave., Suite 300</td>\n",
       "      <td>Phoenix, AZ 85007</td>\n",
       "      <td>602-640-2747</td>\n",
       "      <td>[Phoenix,, AZ, 85007]</td>\n",
       "      <td>33.448437</td>\n",
       "      <td>-112.074142</td>\n",
       "      <td>POINT (-112.07414 33.44844)</td>\n",
       "      <td>[Robert-C-Bartlemay-Sr, Elizabeth-A-Cottor, La...</td>\n",
       "    </tr>\n",
       "    <tr>\n",
       "      <th>3</th>\n",
       "      <td>Tucson</td>\n",
       "      <td>300 West Congress, Suite 300\\n   Tucson, AZ 85...</td>\n",
       "      <td>[Davis, John W., DeAngelis, Kathryn L., Keenan...</td>\n",
       "      <td>Graff, Corey</td>\n",
       "      <td>300 West Congress, Suite 300</td>\n",
       "      <td>Tucson, AZ 85701</td>\n",
       "      <td>520-670-5212</td>\n",
       "      <td>[Tucson,, AZ, 85701]</td>\n",
       "      <td>32.222876</td>\n",
       "      <td>-110.974848</td>\n",
       "      <td>POINT (-110.97485 32.22288)</td>\n",
       "      <td>[John-W-Davis, Kathryn-L-DeAngelis, Sean-H-Kee...</td>\n",
       "    </tr>\n",
       "    <tr>\n",
       "      <th>4</th>\n",
       "      <td>Adelanto</td>\n",
       "      <td>Adelanto Detention Facility\\n   10250 Rancho R...</td>\n",
       "      <td>[DePowell, Bryan E., Halperin, Ravit R., Marcu...</td>\n",
       "      <td>Roberts, Valerie (Acting)</td>\n",
       "      <td>10250 Rancho Road, Ste. 201A</td>\n",
       "      <td>Adelanto, CA 92301</td>\n",
       "      <td>760-561-6500</td>\n",
       "      <td>[Adelanto,, CA, 92301]</td>\n",
       "      <td>34.582770</td>\n",
       "      <td>-117.409215</td>\n",
       "      <td>POINT (-117.40922 34.58277)</td>\n",
       "      <td>[Bryan-E-DePowell, Ravit-R-Halperin, Steven-Ma...</td>\n",
       "    </tr>\n",
       "  </tbody>\n",
       "</table>\n",
       "</div>"
      ],
      "text/plain": [
       "      Court                                            Address  \\\n",
       "0      Eloy  1705 E. Hanna Road, Suite 366\\n   Eloy, AZ 851...   \n",
       "1  Florence  3260 N. Pinal Parkway Avenue\\n   Florence, AZ ...   \n",
       "2   Phoenix  250 N. Seventh Ave., Suite 300\\n   Phoenix, AZ...   \n",
       "3    Tucson  300 West Congress, Suite 300\\n   Tucson, AZ 85...   \n",
       "4  Adelanto  Adelanto Detention Facility\\n   10250 Rancho R...   \n",
       "\n",
       "                                              Judges  \\\n",
       "0  [Cortes, John W., Gaz, Jennifer I., Habich, Pa...   \n",
       "1                [Guerrero, Marni, Taylor, Bruce A.]   \n",
       "2  [Bartlemay Sr., Robert C., Cottor, Elizabeth A...   \n",
       "3  [Davis, John W., DeAngelis, Kathryn L., Keenan...   \n",
       "4  [DePowell, Bryan E., Halperin, Ravit R., Marcu...   \n",
       "\n",
       "                    Ct Admin                           Street  \\\n",
       "0          Padilla, Victoria    1705 E. Hanna Road, Suite 366   \n",
       "1           Toliusis, Rachel     3260 N. Pinal Parkway Avenue   \n",
       "2              Riebs, Sathya   250 N. Seventh Ave., Suite 300   \n",
       "3               Graff, Corey     300 West Congress, Suite 300   \n",
       "4  Roberts, Valerie (Acting)     10250 Rancho Road, Ste. 201A   \n",
       "\n",
       "                 CityZip            Phone                  cz_fix   Latitude  \\\n",
       "0         Eloy, AZ 85131     520-466-3671      [Eloy,, AZ, 85131]  32.755170   \n",
       "1     Florence, AZ 85132     520-868-3341  [Florence,, AZ, 85132]  33.031451   \n",
       "2      Phoenix, AZ 85007     602-640-2747   [Phoenix,, AZ, 85007]  33.448437   \n",
       "3       Tucson, AZ 85701     520-670-5212    [Tucson,, AZ, 85701]  32.222876   \n",
       "4     Adelanto, CA 92301     760-561-6500  [Adelanto,, CA, 92301]  34.582770   \n",
       "\n",
       "    Longitude                     geometry  \\\n",
       "0 -111.553493  POINT (-111.55349 32.75517)   \n",
       "1 -111.387343  POINT (-111.38734 33.03145)   \n",
       "2 -112.074142  POINT (-112.07414 33.44844)   \n",
       "3 -110.974848  POINT (-110.97485 32.22288)   \n",
       "4 -117.409215  POINT (-117.40922 34.58277)   \n",
       "\n",
       "                                           Judges_Hy  \n",
       "0  [John-W-Cortes, Jennifer-I-Gaz, Paul-Habich, J...  \n",
       "1                   [Marni-Guerrero, Bruce-A-Taylor]  \n",
       "2  [Robert-C-Bartlemay-Sr, Elizabeth-A-Cottor, La...  \n",
       "3  [John-W-Davis, Kathryn-L-DeAngelis, Sean-H-Kee...  \n",
       "4  [Bryan-E-DePowell, Ravit-R-Halperin, Steven-Ma...  "
      ]
     },
     "metadata": {},
     "execution_count": 73
    }
   ],
   "metadata": {}
  },
  {
   "cell_type": "code",
   "execution_count": 75,
   "source": [
    "df2['CityZip'][0].split()[0].strip(',.')"
   ],
   "outputs": [
    {
     "output_type": "execute_result",
     "data": {
      "text/plain": [
       "'Eloy'"
      ]
     },
     "metadata": {},
     "execution_count": 75
    }
   ],
   "metadata": {}
  },
  {
   "cell_type": "code",
   "execution_count": 77,
   "source": [
    "# good for pulling the city out of the cityzip feature.  now jsut need to hyphenate judges\n",
    "judge_city =[]\n",
    "for i in range(len(df2['Judges_Hy'])):\n",
    "    for j in df2['Judges_Hy'][i]:\n",
    "        hy_j = judge_addy_part(j)[0]\n",
    "        city = df2['CityZip'][i]\n",
    "        try:\n",
    "            city = city.split()[0].strip(',.')\n",
    "        except:\n",
    "            pass\n",
    "        # judge_hy = judge_addy_part(j)\n",
    "        judge_city.append((hy_j,city))\n",
    "judge_city[0:15]"
   ],
   "outputs": [
    {
     "output_type": "execute_result",
     "data": {
      "text/plain": [
       "[('John-W-Cortes', 'Eloy'),\n",
       " ('Jennifer-I-Gaz', 'Eloy'),\n",
       " ('Paul-Habich', 'Eloy'),\n",
       " ('Jose-L-Penalosa-Jr', 'Eloy'),\n",
       " ('Marni-Guerrero', 'Florence'),\n",
       " ('Bruce-A-Taylor', 'Florence'),\n",
       " ('Robert-C-Bartlemay-Sr', 'Phoenix'),\n",
       " ('Elizabeth-A-Cottor', 'Phoenix'),\n",
       " ('LaMonte-S-Freerks', 'Phoenix'),\n",
       " ('Joseph-S-Imburgia', 'Phoenix'),\n",
       " ('Ken-Josephson', 'Phoenix'),\n",
       " ('Melissa-B-Karlen', 'Phoenix'),\n",
       " ('Munish-Sharda', 'Phoenix'),\n",
       " ('Linda-Spencer-Walters', 'Phoenix'),\n",
       " ('John-W-Davis', 'Tucson')]"
      ]
     },
     "metadata": {},
     "execution_count": 77
    }
   ],
   "metadata": {}
  },
  {
   "cell_type": "markdown",
   "source": [
    "# now indy bios for judges"
   ],
   "metadata": {}
  },
  {
   "cell_type": "code",
   "execution_count": 64,
   "source": [
    "url3= https://www.ratemyimmigrationjudge.com/listing/hon-print-maggard-immigration-judge-san-francisco-immigration-court/\n",
    "#hon-print-maggard-immigration-judge-san-francisco-immigration-court/\n",
    "response3 = requests.get(url)\n",
    "response3"
   ],
   "outputs": [
    {
     "output_type": "execute_result",
     "data": {
      "text/plain": [
       "<Response [200]>"
      ]
     },
     "metadata": {},
     "execution_count": 64
    }
   ],
   "metadata": {}
  },
  {
   "cell_type": "code",
   "execution_count": 69,
   "source": [
    "soup3 = BeautifulSoup(response3.text,'html.parser')\n",
    "judge_list3 = soup3.body\n"
   ],
   "outputs": [],
   "metadata": {}
  },
  {
   "cell_type": "markdown",
   "source": [],
   "metadata": {}
  }
 ],
 "metadata": {
  "orig_nbformat": 4,
  "language_info": {
   "name": "python",
   "version": "3.6.13",
   "mimetype": "text/x-python",
   "codemirror_mode": {
    "name": "ipython",
    "version": 3
   },
   "pygments_lexer": "ipython3",
   "nbconvert_exporter": "python",
   "file_extension": ".py"
  },
  "kernelspec": {
   "name": "python3",
   "display_name": "Python 3.6.13 64-bit ('geopandas_env': conda)"
  },
  "interpreter": {
   "hash": "e3d531657866f8d065b0b35d4ac73a3d9deb0042e7261132dadd2a3dbb70da95"
  }
 },
 "nbformat": 4,
 "nbformat_minor": 2
}