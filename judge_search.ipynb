{
 "cells": [
  {
   "cell_type": "code",
   "execution_count": null,
   "source": [
    "#https://www.ratemyimmigrationjudge.com/listing/hon-john-w-cortes-immigration-judge-new-york-varick-immigration-court/\n",
    "\n",
    "#https://www.ratemyimmigrationjudge.com/job-listings/?search_keywords=&search_location=&search_radius=50&search_lat=0&search_lng=0"
   ],
   "outputs": [],
   "metadata": {}
  },
  {
   "cell_type": "code",
   "execution_count": 48,
   "source": [
    "import csv\n",
    "import pandas as pd\n",
    "import googlemaps\n",
    "import requests \n",
    "import urllib.request\n",
    "import time\n",
    "from bs4 import BeautifulSoup\n",
    "import pickle"
   ],
   "outputs": [],
   "metadata": {}
  },
  {
   "cell_type": "code",
   "execution_count": 49,
   "source": [
    "df2 = pickle.load(open('imm_judges.p','rb'))\n",
    "df2.head()"
   ],
   "outputs": [
    {
     "output_type": "stream",
     "name": "stderr",
     "text": [
      "/home/awstclair/miniconda3/envs/geopandas_env/lib/python3.6/site-packages/geopandas/_compat.py:88: UserWarning: The Shapely GEOS version (3.9.1dev-CAPI-1.14.1) is incompatible with the GEOS version PyGEOS was compiled with (3.9.1-CAPI-1.14.2). Conversions between both will be slow.\n",
      "  shapely_geos_version, geos_capi_version_string\n"
     ]
    },
    {
     "output_type": "execute_result",
     "data": {
      "text/html": [
       "<div>\n",
       "<style scoped>\n",
       "    .dataframe tbody tr th:only-of-type {\n",
       "        vertical-align: middle;\n",
       "    }\n",
       "\n",
       "    .dataframe tbody tr th {\n",
       "        vertical-align: top;\n",
       "    }\n",
       "\n",
       "    .dataframe thead th {\n",
       "        text-align: right;\n",
       "    }\n",
       "</style>\n",
       "<table border=\"1\" class=\"dataframe\">\n",
       "  <thead>\n",
       "    <tr style=\"text-align: right;\">\n",
       "      <th></th>\n",
       "      <th>Court</th>\n",
       "      <th>Address</th>\n",
       "      <th>Judges</th>\n",
       "      <th>Ct Admin</th>\n",
       "      <th>Street</th>\n",
       "      <th>CityZip</th>\n",
       "      <th>Phone</th>\n",
       "      <th>cz_fix</th>\n",
       "      <th>Latitude</th>\n",
       "      <th>Longitude</th>\n",
       "      <th>geometry</th>\n",
       "    </tr>\n",
       "  </thead>\n",
       "  <tbody>\n",
       "    <tr>\n",
       "      <th>0</th>\n",
       "      <td>Eloy</td>\n",
       "      <td>1705 E. Hanna Road, Suite 366\\n   Eloy, AZ 851...</td>\n",
       "      <td>[Cortes, John W., Gaz, Jennifer I., Habich, Pa...</td>\n",
       "      <td>Padilla, Victoria</td>\n",
       "      <td>1705 E. Hanna Road, Suite 366</td>\n",
       "      <td>Eloy, AZ 85131</td>\n",
       "      <td>520-466-3671</td>\n",
       "      <td>[Eloy,, AZ, 85131]</td>\n",
       "      <td>32.755170</td>\n",
       "      <td>-111.553493</td>\n",
       "      <td>POINT (-111.55349 32.75517)</td>\n",
       "    </tr>\n",
       "    <tr>\n",
       "      <th>1</th>\n",
       "      <td>Florence</td>\n",
       "      <td>3260 N. Pinal Parkway Avenue\\n   Florence, AZ ...</td>\n",
       "      <td>[Guerrero, Marni, Taylor, Bruce A.]</td>\n",
       "      <td>Toliusis, Rachel</td>\n",
       "      <td>3260 N. Pinal Parkway Avenue</td>\n",
       "      <td>Florence, AZ 85132</td>\n",
       "      <td>520-868-3341</td>\n",
       "      <td>[Florence,, AZ, 85132]</td>\n",
       "      <td>33.031451</td>\n",
       "      <td>-111.387343</td>\n",
       "      <td>POINT (-111.38734 33.03145)</td>\n",
       "    </tr>\n",
       "    <tr>\n",
       "      <th>2</th>\n",
       "      <td>Phoenix</td>\n",
       "      <td>250 N. Seventh Ave., Suite 300\\n   Phoenix, AZ...</td>\n",
       "      <td>[Bartlemay Sr., Robert C., Cottor, Elizabeth A...</td>\n",
       "      <td>Riebs, Sathya</td>\n",
       "      <td>250 N. Seventh Ave., Suite 300</td>\n",
       "      <td>Phoenix, AZ 85007</td>\n",
       "      <td>602-640-2747</td>\n",
       "      <td>[Phoenix,, AZ, 85007]</td>\n",
       "      <td>33.448437</td>\n",
       "      <td>-112.074142</td>\n",
       "      <td>POINT (-112.07414 33.44844)</td>\n",
       "    </tr>\n",
       "    <tr>\n",
       "      <th>3</th>\n",
       "      <td>Tucson</td>\n",
       "      <td>300 West Congress, Suite 300\\n   Tucson, AZ 85...</td>\n",
       "      <td>[Davis, John W., DeAngelis, Kathryn L., Keenan...</td>\n",
       "      <td>Graff, Corey</td>\n",
       "      <td>300 West Congress, Suite 300</td>\n",
       "      <td>Tucson, AZ 85701</td>\n",
       "      <td>520-670-5212</td>\n",
       "      <td>[Tucson,, AZ, 85701]</td>\n",
       "      <td>32.222876</td>\n",
       "      <td>-110.974848</td>\n",
       "      <td>POINT (-110.97485 32.22288)</td>\n",
       "    </tr>\n",
       "    <tr>\n",
       "      <th>4</th>\n",
       "      <td>Adelanto</td>\n",
       "      <td>Adelanto Detention Facility\\n   10250 Rancho R...</td>\n",
       "      <td>[DePowell, Bryan E., Halperin, Ravit R., Marcu...</td>\n",
       "      <td>Roberts, Valerie (Acting)</td>\n",
       "      <td>10250 Rancho Road, Ste. 201A</td>\n",
       "      <td>Adelanto, CA 92301</td>\n",
       "      <td>760-561-6500</td>\n",
       "      <td>[Adelanto,, CA, 92301]</td>\n",
       "      <td>34.582770</td>\n",
       "      <td>-117.409215</td>\n",
       "      <td>POINT (-117.40922 34.58277)</td>\n",
       "    </tr>\n",
       "  </tbody>\n",
       "</table>\n",
       "</div>"
      ],
      "text/plain": [
       "      Court                                            Address  \\\n",
       "0      Eloy  1705 E. Hanna Road, Suite 366\\n   Eloy, AZ 851...   \n",
       "1  Florence  3260 N. Pinal Parkway Avenue\\n   Florence, AZ ...   \n",
       "2   Phoenix  250 N. Seventh Ave., Suite 300\\n   Phoenix, AZ...   \n",
       "3    Tucson  300 West Congress, Suite 300\\n   Tucson, AZ 85...   \n",
       "4  Adelanto  Adelanto Detention Facility\\n   10250 Rancho R...   \n",
       "\n",
       "                                              Judges  \\\n",
       "0  [Cortes, John W., Gaz, Jennifer I., Habich, Pa...   \n",
       "1                [Guerrero, Marni, Taylor, Bruce A.]   \n",
       "2  [Bartlemay Sr., Robert C., Cottor, Elizabeth A...   \n",
       "3  [Davis, John W., DeAngelis, Kathryn L., Keenan...   \n",
       "4  [DePowell, Bryan E., Halperin, Ravit R., Marcu...   \n",
       "\n",
       "                    Ct Admin                           Street  \\\n",
       "0          Padilla, Victoria    1705 E. Hanna Road, Suite 366   \n",
       "1           Toliusis, Rachel     3260 N. Pinal Parkway Avenue   \n",
       "2              Riebs, Sathya   250 N. Seventh Ave., Suite 300   \n",
       "3               Graff, Corey     300 West Congress, Suite 300   \n",
       "4  Roberts, Valerie (Acting)     10250 Rancho Road, Ste. 201A   \n",
       "\n",
       "                 CityZip            Phone                  cz_fix   Latitude  \\\n",
       "0         Eloy, AZ 85131     520-466-3671      [Eloy,, AZ, 85131]  32.755170   \n",
       "1     Florence, AZ 85132     520-868-3341  [Florence,, AZ, 85132]  33.031451   \n",
       "2      Phoenix, AZ 85007     602-640-2747   [Phoenix,, AZ, 85007]  33.448437   \n",
       "3       Tucson, AZ 85701     520-670-5212    [Tucson,, AZ, 85701]  32.222876   \n",
       "4     Adelanto, CA 92301     760-561-6500  [Adelanto,, CA, 92301]  34.582770   \n",
       "\n",
       "    Longitude                     geometry  \n",
       "0 -111.553493  POINT (-111.55349 32.75517)  \n",
       "1 -111.387343  POINT (-111.38734 33.03145)  \n",
       "2 -112.074142  POINT (-112.07414 33.44844)  \n",
       "3 -110.974848  POINT (-110.97485 32.22288)  \n",
       "4 -117.409215  POINT (-117.40922 34.58277)  "
      ]
     },
     "metadata": {},
     "execution_count": 49
    }
   ],
   "metadata": {}
  },
  {
   "cell_type": "markdown",
   "source": [
    "# tester"
   ],
   "metadata": {}
  },
  {
   "cell_type": "code",
   "execution_count": 2,
   "source": [
    "url = 'https://www.ratemyimmigrationjudge.com/listing/hon-john-w-cortes-immigration-judge-new-york-varick-immigration-court/'\n",
    "response = requests.get(url)\n",
    "response"
   ],
   "outputs": [
    {
     "output_type": "execute_result",
     "data": {
      "text/plain": [
       "<Response [200]>"
      ]
     },
     "metadata": {},
     "execution_count": 2
    }
   ],
   "metadata": {}
  },
  {
   "cell_type": "code",
   "execution_count": 3,
   "source": [
    "soup = BeautifulSoup(response.text,'html.parser')"
   ],
   "outputs": [],
   "metadata": {}
  },
  {
   "cell_type": "code",
   "execution_count": 6,
   "source": [
    "bio_test = soup.findAll('p')\n",
    "\n",
    "bio_test[0:1]"
   ],
   "outputs": [
    {
     "output_type": "execute_result",
     "data": {
      "text/plain": [
       "[<p>Then-Acting Attorney General Matthew Whitaker appointed John W. Cortes to begin hearingcases in March 2019. Judge Cortes earned a Bachelor of Arts in 1999 from the City University ofNew York at Brooklyn College and a Juris Doctor in 2002 at the New York Law School. From2003 to 2018, he served as an assistant district attorney for the Suffolk County DistrictAttorneyâ€™s Office, and from 2013 to 2018, he served as a principal assistant district attorney forthe same court. Judge Cortes is a member of the State Bar of Arizona and New York State Bar.</p>]"
      ]
     },
     "metadata": {},
     "execution_count": 6
    }
   ],
   "metadata": {}
  },
  {
   "cell_type": "code",
   "execution_count": null,
   "source": [],
   "outputs": [],
   "metadata": {}
  },
  {
   "cell_type": "markdown",
   "source": [
    "# Get Court pages"
   ],
   "metadata": {}
  },
  {
   "cell_type": "code",
   "execution_count": 51,
   "source": [
    "# https://www.ratemyimmigrationjudge.com/job-listings/?search_keywords=&search_location=eloy&search_radius=50&search_lat=0&search_lng=0\n",
    "\n",
    "court_pages = []\n",
    "for court in df2['Court']:\n",
    "    url = 'https://www.ratemyimmigrationjudge.com/job-listings/?search_keywords=&search_location={}&search_radius=50&search_lat=0&search_lng=0'.format(court)\n",
    "    court_pages.append(url)\n",
    "court_pages[0:5]"
   ],
   "outputs": [
    {
     "output_type": "execute_result",
     "data": {
      "text/plain": [
       "['https://www.ratemyimmigrationjudge.com/job-listings/?search_keywords=&search_location=Eloy&search_radius=50&search_lat=0&search_lng=0',\n",
       " 'https://www.ratemyimmigrationjudge.com/job-listings/?search_keywords=&search_location=Florence&search_radius=50&search_lat=0&search_lng=0',\n",
       " 'https://www.ratemyimmigrationjudge.com/job-listings/?search_keywords=&search_location=Phoenix&search_radius=50&search_lat=0&search_lng=0',\n",
       " 'https://www.ratemyimmigrationjudge.com/job-listings/?search_keywords=&search_location=Tucson&search_radius=50&search_lat=0&search_lng=0',\n",
       " 'https://www.ratemyimmigrationjudge.com/job-listings/?search_keywords=&search_location=Adelanto&search_radius=50&search_lat=0&search_lng=0']"
      ]
     },
     "metadata": {},
     "execution_count": 51
    }
   ],
   "metadata": {}
  },
  {
   "cell_type": "code",
   "execution_count": 61,
   "source": [
    "\n",
    "url = court_pages[0]\n",
    "response = requests.get(url)\n",
    "response\n",
    "soup = BeautifulSoup(response.text,'html.parser')\n"
   ],
   "outputs": [],
   "metadata": {}
  },
  {
   "cell_type": "markdown",
   "source": [
    "# now judges by page"
   ],
   "metadata": {}
  },
  {
   "cell_type": "code",
   "execution_count": 88,
   "source": [
    "df2['Judges'].head()"
   ],
   "outputs": [
    {
     "output_type": "execute_result",
     "data": {
      "text/plain": [
       "0    [Cortes, John W., Gaz, Jennifer I., Habich, Pa...\n",
       "1                  [Guerrero, Marni, Taylor, Bruce A.]\n",
       "2    [Bartlemay Sr., Robert C., Cottor, Elizabeth A...\n",
       "3    [Davis, John W., DeAngelis, Kathryn L., Keenan...\n",
       "4    [DePowell, Bryan E., Halperin, Ravit R., Marcu...\n",
       "Name: Judges, dtype: object"
      ]
     },
     "metadata": {},
     "execution_count": 88
    }
   ],
   "metadata": {}
  },
  {
   "cell_type": "code",
   "execution_count": 56,
   "source": [
    "judge_list =[]\n",
    "\n",
    "for judge in df2['Judges'][0]:\n",
    "    judge_list.append(judge)\n",
    "judge_list[0:20]"
   ],
   "outputs": [
    {
     "output_type": "execute_result",
     "data": {
      "text/plain": [
       "['Cortes, John W.',\n",
       " 'Gaz, Jennifer I.',\n",
       " 'Habich, Paul',\n",
       " 'Penalosa Jr., Jose L.']"
      ]
     },
     "metadata": {},
     "execution_count": 56
    }
   ],
   "metadata": {}
  },
  {
   "cell_type": "code",
   "execution_count": 204,
   "source": [
    "sample = df2['Judges'][0][3]\n",
    "\n",
    "def judge_addy_part(judge):\n",
    "    j_split = judge.split()\n",
    "    res = [j.strip('.,') for j in j_split]\n",
    "    name_num = len(res)\n",
    "    # judge_hyphen =j_split\n",
    "    if name_num == 1:\n",
    "        judge_hyphen = res\n",
    "    elif name_num == 2:\n",
    "        judge_hyphen = res[1]+'-'+res[0]\n",
    "    elif name_num == 3:\n",
    "        judge_hyphen = res[1]+'-'+res[2]+'-'+res[0]\n",
    "    else:\n",
    "        judge_hyphen = res[2]+'-'+res[3]+'-'+res[0]+'-'+res[1]\n",
    "    return judge_hyphen\n",
    "\n",
    "judge_addy_part(df2['Judges'][0][3])\n"
   ],
   "outputs": [
    {
     "output_type": "execute_result",
     "data": {
      "text/plain": [
       "'Jose-L-Penalosa-Jr'"
      ]
     },
     "metadata": {},
     "execution_count": 204
    }
   ],
   "metadata": {}
  },
  {
   "cell_type": "code",
   "execution_count": 203,
   "source": [
    "sample = df2['Judges'][0][3]\n",
    "\n",
    "def judge_addy_list(list):\n",
    "    j_list=[]\n",
    "    for judge in list:\n",
    "        j_split = judge.split()\n",
    "        res = [j.strip('.,') for j in j_split]\n",
    "        name_num = len(res)\n",
    "        # judge_hyphen =j_split\n",
    "        if name_num == 1:\n",
    "            judge_hyphen = res\n",
    "        elif name_num == 2:\n",
    "            judge_hyphen = res[1]+'-'+res[0]\n",
    "        elif name_num == 3:\n",
    "            judge_hyphen = res[1]+'-'+res[2]+'-'+res[0]\n",
    "        else:\n",
    "            judge_hyphen = res[2]+'-'+res[3]+'-'+res[0]+'-'+res[1]\n",
    "        j_list.append(judge_hyphen)\n",
    "    return j_list\n",
    "\n",
    "judge_addy_list(df2['Judges'][0])"
   ],
   "outputs": [
    {
     "output_type": "execute_result",
     "data": {
      "text/plain": [
       "['John-W-Cortes', 'Jennifer-I-Gaz', 'Paul-Habich', 'Jose-L-Penalosa-Jr']"
      ]
     },
     "metadata": {},
     "execution_count": 203
    }
   ],
   "metadata": {}
  },
  {
   "cell_type": "code",
   "execution_count": 198,
   "source": [
    "judge_list_HY =[]\n",
    "#https://www.ratemyimmigrationjudge.com/listing/hon-john-w-cortes-immigration-judge-new-york-varick-immigration-court/\n",
    "\n",
    "for judge in df2['Judges'][0]:\n",
    "    judge_list_HY.append(judge_addy_part(judge))\n",
    "judge_list_HY\n",
    "    \n",
    "    "
   ],
   "outputs": [
    {
     "output_type": "execute_result",
     "data": {
      "text/plain": [
       "['John-W-Cortes', 'Jennifer-I-Gaz', 'Paul-Habich', 'Jose-L-Penalosa-Jr']"
      ]
     },
     "metadata": {},
     "execution_count": 198
    }
   ],
   "metadata": {}
  },
  {
   "cell_type": "code",
   "execution_count": 209,
   "source": [
    "judge_addy_list(df2['Judges'][2])"
   ],
   "outputs": [
    {
     "output_type": "execute_result",
     "data": {
      "text/plain": [
       "['Robert-C-Bartlemay-Sr',\n",
       " 'Elizabeth-A-Cottor',\n",
       " 'LaMonte-S-Freerks',\n",
       " 'Joseph-S-Imburgia',\n",
       " 'Ken-Josephson',\n",
       " 'Melissa-B-Karlen',\n",
       " 'Munish-Sharda',\n",
       " 'Linda-Spencer-Walters']"
      ]
     },
     "metadata": {},
     "execution_count": 209
    }
   ],
   "metadata": {}
  },
  {
   "cell_type": "code",
   "execution_count": 210,
   "source": [
    "df2['Judges_Hy'] = df2['Judges'].apply(lambda x : [judge_addy_list(x) for x in df2['Judges']])"
   ],
   "outputs": [
    {
     "output_type": "error",
     "ename": "IndexError",
     "evalue": "list index out of range",
     "traceback": [
      "\u001b[0;31m---------------------------------------------------------------------------\u001b[0m",
      "\u001b[0;31mIndexError\u001b[0m                                Traceback (most recent call last)",
      "\u001b[0;32m<ipython-input-210-4ebdbf4a0692>\u001b[0m in \u001b[0;36m<module>\u001b[0;34m\u001b[0m\n\u001b[0;32m----> 1\u001b[0;31m \u001b[0mdf2\u001b[0m\u001b[0;34m[\u001b[0m\u001b[0;34m'Judges_Hy'\u001b[0m\u001b[0;34m]\u001b[0m \u001b[0;34m=\u001b[0m \u001b[0mdf2\u001b[0m\u001b[0;34m[\u001b[0m\u001b[0;34m'Judges'\u001b[0m\u001b[0;34m]\u001b[0m\u001b[0;34m.\u001b[0m\u001b[0mapply\u001b[0m\u001b[0;34m(\u001b[0m\u001b[0;32mlambda\u001b[0m \u001b[0mx\u001b[0m \u001b[0;34m:\u001b[0m \u001b[0;34m[\u001b[0m\u001b[0mjudge_addy_list\u001b[0m\u001b[0;34m(\u001b[0m\u001b[0mx\u001b[0m\u001b[0;34m)\u001b[0m \u001b[0;32mfor\u001b[0m \u001b[0mx\u001b[0m \u001b[0;32min\u001b[0m \u001b[0mdf2\u001b[0m\u001b[0;34m[\u001b[0m\u001b[0;34m'Judges'\u001b[0m\u001b[0;34m]\u001b[0m\u001b[0;34m]\u001b[0m\u001b[0;34m)\u001b[0m\u001b[0;34m\u001b[0m\u001b[0;34m\u001b[0m\u001b[0m\n\u001b[0m",
      "\u001b[0;32m~/miniconda3/envs/geopandas_env/lib/python3.6/site-packages/pandas/core/series.py\u001b[0m in \u001b[0;36mapply\u001b[0;34m(self, func, convert_dtype, args, **kwds)\u001b[0m\n\u001b[1;32m   4211\u001b[0m             \u001b[0;32melse\u001b[0m\u001b[0;34m:\u001b[0m\u001b[0;34m\u001b[0m\u001b[0;34m\u001b[0m\u001b[0m\n\u001b[1;32m   4212\u001b[0m                 \u001b[0mvalues\u001b[0m \u001b[0;34m=\u001b[0m \u001b[0mself\u001b[0m\u001b[0;34m.\u001b[0m\u001b[0mastype\u001b[0m\u001b[0;34m(\u001b[0m\u001b[0mobject\u001b[0m\u001b[0;34m)\u001b[0m\u001b[0;34m.\u001b[0m\u001b[0m_values\u001b[0m\u001b[0;34m\u001b[0m\u001b[0;34m\u001b[0m\u001b[0m\n\u001b[0;32m-> 4213\u001b[0;31m                 \u001b[0mmapped\u001b[0m \u001b[0;34m=\u001b[0m \u001b[0mlib\u001b[0m\u001b[0;34m.\u001b[0m\u001b[0mmap_infer\u001b[0m\u001b[0;34m(\u001b[0m\u001b[0mvalues\u001b[0m\u001b[0;34m,\u001b[0m \u001b[0mf\u001b[0m\u001b[0;34m,\u001b[0m \u001b[0mconvert\u001b[0m\u001b[0;34m=\u001b[0m\u001b[0mconvert_dtype\u001b[0m\u001b[0;34m)\u001b[0m\u001b[0;34m\u001b[0m\u001b[0;34m\u001b[0m\u001b[0m\n\u001b[0m\u001b[1;32m   4214\u001b[0m \u001b[0;34m\u001b[0m\u001b[0m\n\u001b[1;32m   4215\u001b[0m         \u001b[0;32mif\u001b[0m \u001b[0mlen\u001b[0m\u001b[0;34m(\u001b[0m\u001b[0mmapped\u001b[0m\u001b[0;34m)\u001b[0m \u001b[0;32mand\u001b[0m \u001b[0misinstance\u001b[0m\u001b[0;34m(\u001b[0m\u001b[0mmapped\u001b[0m\u001b[0;34m[\u001b[0m\u001b[0;36m0\u001b[0m\u001b[0;34m]\u001b[0m\u001b[0;34m,\u001b[0m \u001b[0mSeries\u001b[0m\u001b[0;34m)\u001b[0m\u001b[0;34m:\u001b[0m\u001b[0;34m\u001b[0m\u001b[0;34m\u001b[0m\u001b[0m\n",
      "\u001b[0;32mpandas/_libs/lib.pyx\u001b[0m in \u001b[0;36mpandas._libs.lib.map_infer\u001b[0;34m()\u001b[0m\n",
      "\u001b[0;32m<ipython-input-210-4ebdbf4a0692>\u001b[0m in \u001b[0;36m<lambda>\u001b[0;34m(x)\u001b[0m\n\u001b[0;32m----> 1\u001b[0;31m \u001b[0mdf2\u001b[0m\u001b[0;34m[\u001b[0m\u001b[0;34m'Judges_Hy'\u001b[0m\u001b[0;34m]\u001b[0m \u001b[0;34m=\u001b[0m \u001b[0mdf2\u001b[0m\u001b[0;34m[\u001b[0m\u001b[0;34m'Judges'\u001b[0m\u001b[0;34m]\u001b[0m\u001b[0;34m.\u001b[0m\u001b[0mapply\u001b[0m\u001b[0;34m(\u001b[0m\u001b[0;32mlambda\u001b[0m \u001b[0mx\u001b[0m \u001b[0;34m:\u001b[0m \u001b[0;34m[\u001b[0m\u001b[0mjudge_addy_list\u001b[0m\u001b[0;34m(\u001b[0m\u001b[0mx\u001b[0m\u001b[0;34m)\u001b[0m \u001b[0;32mfor\u001b[0m \u001b[0mx\u001b[0m \u001b[0;32min\u001b[0m \u001b[0mdf2\u001b[0m\u001b[0;34m[\u001b[0m\u001b[0;34m'Judges'\u001b[0m\u001b[0;34m]\u001b[0m\u001b[0;34m]\u001b[0m\u001b[0;34m)\u001b[0m\u001b[0;34m\u001b[0m\u001b[0;34m\u001b[0m\u001b[0m\n\u001b[0m",
      "\u001b[0;32m<ipython-input-210-4ebdbf4a0692>\u001b[0m in \u001b[0;36m<listcomp>\u001b[0;34m(.0)\u001b[0m\n\u001b[0;32m----> 1\u001b[0;31m \u001b[0mdf2\u001b[0m\u001b[0;34m[\u001b[0m\u001b[0;34m'Judges_Hy'\u001b[0m\u001b[0;34m]\u001b[0m \u001b[0;34m=\u001b[0m \u001b[0mdf2\u001b[0m\u001b[0;34m[\u001b[0m\u001b[0;34m'Judges'\u001b[0m\u001b[0;34m]\u001b[0m\u001b[0;34m.\u001b[0m\u001b[0mapply\u001b[0m\u001b[0;34m(\u001b[0m\u001b[0;32mlambda\u001b[0m \u001b[0mx\u001b[0m \u001b[0;34m:\u001b[0m \u001b[0;34m[\u001b[0m\u001b[0mjudge_addy_list\u001b[0m\u001b[0;34m(\u001b[0m\u001b[0mx\u001b[0m\u001b[0;34m)\u001b[0m \u001b[0;32mfor\u001b[0m \u001b[0mx\u001b[0m \u001b[0;32min\u001b[0m \u001b[0mdf2\u001b[0m\u001b[0;34m[\u001b[0m\u001b[0;34m'Judges'\u001b[0m\u001b[0;34m]\u001b[0m\u001b[0;34m]\u001b[0m\u001b[0;34m)\u001b[0m\u001b[0;34m\u001b[0m\u001b[0;34m\u001b[0m\u001b[0m\n\u001b[0m",
      "\u001b[0;32m<ipython-input-203-89a018f68e51>\u001b[0m in \u001b[0;36mjudge_addy_list\u001b[0;34m(list)\u001b[0m\n\u001b[1;32m     15\u001b[0m             \u001b[0mjudge_hyphen\u001b[0m \u001b[0;34m=\u001b[0m \u001b[0mres\u001b[0m\u001b[0;34m[\u001b[0m\u001b[0;36m1\u001b[0m\u001b[0;34m]\u001b[0m\u001b[0;34m+\u001b[0m\u001b[0;34m'-'\u001b[0m\u001b[0;34m+\u001b[0m\u001b[0mres\u001b[0m\u001b[0;34m[\u001b[0m\u001b[0;36m2\u001b[0m\u001b[0;34m]\u001b[0m\u001b[0;34m+\u001b[0m\u001b[0;34m'-'\u001b[0m\u001b[0;34m+\u001b[0m\u001b[0mres\u001b[0m\u001b[0;34m[\u001b[0m\u001b[0;36m0\u001b[0m\u001b[0;34m]\u001b[0m\u001b[0;34m\u001b[0m\u001b[0;34m\u001b[0m\u001b[0m\n\u001b[1;32m     16\u001b[0m         \u001b[0;32melse\u001b[0m\u001b[0;34m:\u001b[0m\u001b[0;34m\u001b[0m\u001b[0;34m\u001b[0m\u001b[0m\n\u001b[0;32m---> 17\u001b[0;31m             \u001b[0mjudge_hyphen\u001b[0m \u001b[0;34m=\u001b[0m \u001b[0mres\u001b[0m\u001b[0;34m[\u001b[0m\u001b[0;36m2\u001b[0m\u001b[0;34m]\u001b[0m\u001b[0;34m+\u001b[0m\u001b[0;34m'-'\u001b[0m\u001b[0;34m+\u001b[0m\u001b[0mres\u001b[0m\u001b[0;34m[\u001b[0m\u001b[0;36m3\u001b[0m\u001b[0;34m]\u001b[0m\u001b[0;34m+\u001b[0m\u001b[0;34m'-'\u001b[0m\u001b[0;34m+\u001b[0m\u001b[0mres\u001b[0m\u001b[0;34m[\u001b[0m\u001b[0;36m0\u001b[0m\u001b[0;34m]\u001b[0m\u001b[0;34m+\u001b[0m\u001b[0;34m'-'\u001b[0m\u001b[0;34m+\u001b[0m\u001b[0mres\u001b[0m\u001b[0;34m[\u001b[0m\u001b[0;36m1\u001b[0m\u001b[0;34m]\u001b[0m\u001b[0;34m\u001b[0m\u001b[0;34m\u001b[0m\u001b[0m\n\u001b[0m\u001b[1;32m     18\u001b[0m         \u001b[0mj_list\u001b[0m\u001b[0;34m.\u001b[0m\u001b[0mappend\u001b[0m\u001b[0;34m(\u001b[0m\u001b[0mjudge_hyphen\u001b[0m\u001b[0;34m)\u001b[0m\u001b[0;34m\u001b[0m\u001b[0;34m\u001b[0m\u001b[0m\n\u001b[1;32m     19\u001b[0m     \u001b[0;32mreturn\u001b[0m \u001b[0mj_list\u001b[0m\u001b[0;34m\u001b[0m\u001b[0;34m\u001b[0m\u001b[0m\n",
      "\u001b[0;31mIndexError\u001b[0m: list index out of range"
     ]
    }
   ],
   "metadata": {}
  },
  {
   "cell_type": "code",
   "execution_count": 156,
   "source": [
    "df2['CityZip'][0].split()[0].strip(',.')"
   ],
   "outputs": [
    {
     "output_type": "execute_result",
     "data": {
      "text/plain": [
       "'Eloy'"
      ]
     },
     "metadata": {},
     "execution_count": 156
    }
   ],
   "metadata": {}
  },
  {
   "cell_type": "code",
   "execution_count": 181,
   "source": [
    "judge_city =[]\n",
    "for i in range(len(df2['Judges'])):\n",
    "    for j in df2['Judges'][i]:\n",
    "        hy_j = judge_addy_part(j)\n",
    "        city = df2['CityZip'][i]\n",
    "        try:\n",
    "            city = city.split()[0].strip(',.')\n",
    "        except:\n",
    "            pass\n",
    "        # judge_hy = judge_addy_part(j)\n",
    "        judge_city.append((hy_j,city))\n",
    "judge_city[0:15]"
   ],
   "outputs": [
    {
     "output_type": "execute_result",
     "data": {
      "text/plain": [
       "[('Cortes, John W.', 'Eloy'),\n",
       " ('Gaz, Jennifer I.', 'Eloy'),\n",
       " ('Habich, Paul', 'Eloy'),\n",
       " ('Penalosa Jr., Jose L.', 'Eloy'),\n",
       " ('Guerrero, Marni', 'Florence'),\n",
       " ('Taylor, Bruce A.', 'Florence'),\n",
       " ('Bartlemay Sr., Robert C.', 'Phoenix'),\n",
       " ('Cottor, Elizabeth A.', 'Phoenix'),\n",
       " ('Freerks, LaMonte S.', 'Phoenix'),\n",
       " ('Imburgia, Joseph S.', 'Phoenix'),\n",
       " ('Josephson, Ken', 'Phoenix'),\n",
       " ('Karlen, Melissa B.', 'Phoenix'),\n",
       " ('Sharda, Munish', 'Phoenix'),\n",
       " ('Spencer-Walters, Linda', 'Phoenix'),\n",
       " ('Davis, John W.', 'Tucson')]"
      ]
     },
     "metadata": {},
     "execution_count": 181
    }
   ],
   "metadata": {}
  },
  {
   "cell_type": "markdown",
   "source": [
    "# now indy bios for judges"
   ],
   "metadata": {}
  },
  {
   "cell_type": "code",
   "execution_count": 64,
   "source": [
    "url3= https://www.ratemyimmigrationjudge.com/listing/hon-print-maggard-immigration-judge-san-francisco-immigration-court/\n",
    "#hon-print-maggard-immigration-judge-san-francisco-immigration-court/\n",
    "response3 = requests.get(url)\n",
    "response3"
   ],
   "outputs": [
    {
     "output_type": "execute_result",
     "data": {
      "text/plain": [
       "<Response [200]>"
      ]
     },
     "metadata": {},
     "execution_count": 64
    }
   ],
   "metadata": {}
  },
  {
   "cell_type": "code",
   "execution_count": 69,
   "source": [
    "soup3 = BeautifulSoup(response3.text,'html.parser')\n",
    "judge_list3 = soup3.body\n"
   ],
   "outputs": [],
   "metadata": {}
  },
  {
   "cell_type": "markdown",
   "source": [],
   "metadata": {}
  }
 ],
 "metadata": {
  "orig_nbformat": 4,
  "language_info": {
   "name": "python",
   "version": "3.6.13",
   "mimetype": "text/x-python",
   "codemirror_mode": {
    "name": "ipython",
    "version": 3
   },
   "pygments_lexer": "ipython3",
   "nbconvert_exporter": "python",
   "file_extension": ".py"
  },
  "kernelspec": {
   "name": "python3",
   "display_name": "Python 3.6.13 64-bit ('geopandas_env': conda)"
  },
  "interpreter": {
   "hash": "e3d531657866f8d065b0b35d4ac73a3d9deb0042e7261132dadd2a3dbb70da95"
  }
 },
 "nbformat": 4,
 "nbformat_minor": 2
}